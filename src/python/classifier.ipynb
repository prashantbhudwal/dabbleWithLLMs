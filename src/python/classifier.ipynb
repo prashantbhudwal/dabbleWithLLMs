{
 "cells": [
  {
   "cell_type": "code",
   "execution_count": 33,
   "metadata": {},
   "outputs": [
    {
     "data": {
      "text/html": [
       "<pre style=\"white-space:pre;overflow-x:auto;line-height:normal;font-family:Menlo,'DejaVu Sans Mono',consolas,'Courier New',monospace\"><span style=\"font-weight: bold\">[</span>\n",
       "    <span style=\"color: #800080; text-decoration-color: #800080; font-weight: bold\">DatasetInfo</span><span style=\"font-weight: bold\">(</span>\n",
       "        <span style=\"color: #808000; text-decoration-color: #808000\">id</span>=<span style=\"color: #008000; text-decoration-color: #008000\">'open-thoughts/OpenThoughts-114k'</span>,\n",
       "        <span style=\"color: #808000; text-decoration-color: #808000\">author</span>=<span style=\"color: #008000; text-decoration-color: #008000\">'open-thoughts'</span>,\n",
       "        <span style=\"color: #808000; text-decoration-color: #808000\">sha</span>=<span style=\"color: #008000; text-decoration-color: #008000\">'c54dc30ccd98b19445a41189d9e49784bdb4fee6'</span>,\n",
       "        <span style=\"color: #808000; text-decoration-color: #808000\">created_at</span>=<span style=\"color: #800080; text-decoration-color: #800080; font-weight: bold\">datetime</span><span style=\"color: #800080; text-decoration-color: #800080; font-weight: bold\">.datetime</span><span style=\"font-weight: bold\">(</span><span style=\"color: #008080; text-decoration-color: #008080; font-weight: bold\">2025</span>, <span style=\"color: #008080; text-decoration-color: #008080; font-weight: bold\">1</span>, <span style=\"color: #008080; text-decoration-color: #008080; font-weight: bold\">27</span>, <span style=\"color: #008080; text-decoration-color: #008080; font-weight: bold\">20</span>, <span style=\"color: #008080; text-decoration-color: #008080; font-weight: bold\">2</span>, <span style=\"color: #008080; text-decoration-color: #008080; font-weight: bold\">16</span>, <span style=\"color: #808000; text-decoration-color: #808000\">tzinfo</span>=<span style=\"color: #800080; text-decoration-color: #800080\">datetime</span>.timezone.utc<span style=\"font-weight: bold\">)</span>,\n",
       "        <span style=\"color: #808000; text-decoration-color: #808000\">last_modified</span>=<span style=\"color: #800080; text-decoration-color: #800080; font-weight: bold\">datetime</span><span style=\"color: #800080; text-decoration-color: #800080; font-weight: bold\">.datetime</span><span style=\"font-weight: bold\">(</span><span style=\"color: #008080; text-decoration-color: #008080; font-weight: bold\">2025</span>, <span style=\"color: #008080; text-decoration-color: #008080; font-weight: bold\">2</span>, <span style=\"color: #008080; text-decoration-color: #008080; font-weight: bold\">11</span>, <span style=\"color: #008080; text-decoration-color: #008080; font-weight: bold\">10</span>, <span style=\"color: #008080; text-decoration-color: #008080; font-weight: bold\">27</span>, <span style=\"color: #008080; text-decoration-color: #008080; font-weight: bold\">24</span>, <span style=\"color: #808000; text-decoration-color: #808000\">tzinfo</span>=<span style=\"color: #800080; text-decoration-color: #800080\">datetime</span>.timezone.utc<span style=\"font-weight: bold\">)</span>,\n",
       "        <span style=\"color: #808000; text-decoration-color: #808000\">private</span>=<span style=\"color: #ff0000; text-decoration-color: #ff0000; font-style: italic\">False</span>,\n",
       "        <span style=\"color: #808000; text-decoration-color: #808000\">gated</span>=<span style=\"color: #ff0000; text-decoration-color: #ff0000; font-style: italic\">False</span>,\n",
       "        <span style=\"color: #808000; text-decoration-color: #808000\">disabled</span>=<span style=\"color: #ff0000; text-decoration-color: #ff0000; font-style: italic\">False</span>,\n",
       "        <span style=\"color: #808000; text-decoration-color: #808000\">downloads</span>=<span style=\"color: #008080; text-decoration-color: #008080; font-weight: bold\">47077</span>,\n",
       "        <span style=\"color: #808000; text-decoration-color: #808000\">downloads_all_time</span>=<span style=\"color: #800080; text-decoration-color: #800080; font-style: italic\">None</span>,\n",
       "        <span style=\"color: #808000; text-decoration-color: #808000\">likes</span>=<span style=\"color: #008080; text-decoration-color: #008080; font-weight: bold\">398</span>,\n",
       "        <span style=\"color: #808000; text-decoration-color: #808000\">paperswithcode_id</span>=<span style=\"color: #800080; text-decoration-color: #800080; font-style: italic\">None</span>,\n",
       "        <span style=\"color: #808000; text-decoration-color: #808000\">tags</span>=<span style=\"font-weight: bold\">[</span>\n",
       "            <span style=\"color: #008000; text-decoration-color: #008000\">'size_categories:100K&lt;n&lt;1M'</span>,\n",
       "            <span style=\"color: #008000; text-decoration-color: #008000\">'format:parquet'</span>,\n",
       "            <span style=\"color: #008000; text-decoration-color: #008000\">'modality:text'</span>,\n",
       "            <span style=\"color: #008000; text-decoration-color: #008000\">'library:datasets'</span>,\n",
       "            <span style=\"color: #008000; text-decoration-color: #008000\">'library:dask'</span>,\n",
       "            <span style=\"color: #008000; text-decoration-color: #008000\">'library:mlcroissant'</span>,\n",
       "            <span style=\"color: #008000; text-decoration-color: #008000\">'library:polars'</span>,\n",
       "            <span style=\"color: #008000; text-decoration-color: #008000\">'region:us'</span>,\n",
       "            <span style=\"color: #008000; text-decoration-color: #008000\">'curator'</span>,\n",
       "            <span style=\"color: #008000; text-decoration-color: #008000\">'synthetic'</span>\n",
       "        <span style=\"font-weight: bold\">]</span>,\n",
       "        <span style=\"color: #808000; text-decoration-color: #808000\">card_data</span>=<span style=\"color: #800080; text-decoration-color: #800080; font-style: italic\">None</span>,\n",
       "        <span style=\"color: #808000; text-decoration-color: #808000\">siblings</span>=<span style=\"color: #800080; text-decoration-color: #800080; font-style: italic\">None</span>\n",
       "    <span style=\"font-weight: bold\">)</span>,\n",
       "    <span style=\"color: #800080; text-decoration-color: #800080; font-weight: bold\">DatasetInfo</span><span style=\"font-weight: bold\">(</span>\n",
       "        <span style=\"color: #808000; text-decoration-color: #808000\">id</span>=<span style=\"color: #008000; text-decoration-color: #008000\">'simplescaling/s1K'</span>,\n",
       "        <span style=\"color: #808000; text-decoration-color: #808000\">author</span>=<span style=\"color: #008000; text-decoration-color: #008000\">'simplescaling'</span>,\n",
       "        <span style=\"color: #808000; text-decoration-color: #808000\">sha</span>=<span style=\"color: #008000; text-decoration-color: #008000\">'278d72baaa2b887a7e76a70a0ae254a5a45536e4'</span>,\n",
       "        <span style=\"color: #808000; text-decoration-color: #808000\">created_at</span>=<span style=\"color: #800080; text-decoration-color: #800080; font-weight: bold\">datetime</span><span style=\"color: #800080; text-decoration-color: #800080; font-weight: bold\">.datetime</span><span style=\"font-weight: bold\">(</span><span style=\"color: #008080; text-decoration-color: #008080; font-weight: bold\">2025</span>, <span style=\"color: #008080; text-decoration-color: #008080; font-weight: bold\">1</span>, <span style=\"color: #008080; text-decoration-color: #008080; font-weight: bold\">14</span>, <span style=\"color: #008080; text-decoration-color: #008080; font-weight: bold\">7</span>, <span style=\"color: #008080; text-decoration-color: #008080; font-weight: bold\">54</span>, <span style=\"color: #008080; text-decoration-color: #008080; font-weight: bold\">43</span>, <span style=\"color: #808000; text-decoration-color: #808000\">tzinfo</span>=<span style=\"color: #800080; text-decoration-color: #800080\">datetime</span>.timezone.utc<span style=\"font-weight: bold\">)</span>,\n",
       "        <span style=\"color: #808000; text-decoration-color: #808000\">last_modified</span>=<span style=\"color: #800080; text-decoration-color: #800080; font-weight: bold\">datetime</span><span style=\"color: #800080; text-decoration-color: #800080; font-weight: bold\">.datetime</span><span style=\"font-weight: bold\">(</span><span style=\"color: #008080; text-decoration-color: #008080; font-weight: bold\">2025</span>, <span style=\"color: #008080; text-decoration-color: #008080; font-weight: bold\">2</span>, <span style=\"color: #008080; text-decoration-color: #008080; font-weight: bold\">11</span>, <span style=\"color: #008080; text-decoration-color: #008080; font-weight: bold\">1</span>, <span style=\"color: #008080; text-decoration-color: #008080; font-weight: bold\">14</span>, <span style=\"color: #008080; text-decoration-color: #008080; font-weight: bold\">45</span>, <span style=\"color: #808000; text-decoration-color: #808000\">tzinfo</span>=<span style=\"color: #800080; text-decoration-color: #800080\">datetime</span>.timezone.utc<span style=\"font-weight: bold\">)</span>,\n",
       "        <span style=\"color: #808000; text-decoration-color: #808000\">private</span>=<span style=\"color: #ff0000; text-decoration-color: #ff0000; font-style: italic\">False</span>,\n",
       "        <span style=\"color: #808000; text-decoration-color: #808000\">gated</span>=<span style=\"color: #ff0000; text-decoration-color: #ff0000; font-style: italic\">False</span>,\n",
       "        <span style=\"color: #808000; text-decoration-color: #808000\">disabled</span>=<span style=\"color: #ff0000; text-decoration-color: #ff0000; font-style: italic\">False</span>,\n",
       "        <span style=\"color: #808000; text-decoration-color: #808000\">downloads</span>=<span style=\"color: #008080; text-decoration-color: #008080; font-weight: bold\">2673</span>,\n",
       "        <span style=\"color: #808000; text-decoration-color: #808000\">downloads_all_time</span>=<span style=\"color: #800080; text-decoration-color: #800080; font-style: italic\">None</span>,\n",
       "        <span style=\"color: #808000; text-decoration-color: #808000\">likes</span>=<span style=\"color: #008080; text-decoration-color: #008080; font-weight: bold\">142</span>,\n",
       "        <span style=\"color: #808000; text-decoration-color: #808000\">paperswithcode_id</span>=<span style=\"color: #800080; text-decoration-color: #800080; font-style: italic\">None</span>,\n",
       "        <span style=\"color: #808000; text-decoration-color: #808000\">tags</span>=<span style=\"font-weight: bold\">[</span>\n",
       "            <span style=\"color: #008000; text-decoration-color: #008000\">'license:apache-2.0'</span>,\n",
       "            <span style=\"color: #008000; text-decoration-color: #008000\">'size_categories:1K&lt;n&lt;10K'</span>,\n",
       "            <span style=\"color: #008000; text-decoration-color: #008000\">'format:parquet'</span>,\n",
       "            <span style=\"color: #008000; text-decoration-color: #008000\">'modality:text'</span>,\n",
       "            <span style=\"color: #008000; text-decoration-color: #008000\">'library:datasets'</span>,\n",
       "            <span style=\"color: #008000; text-decoration-color: #008000\">'library:pandas'</span>,\n",
       "            <span style=\"color: #008000; text-decoration-color: #008000\">'library:mlcroissant'</span>,\n",
       "            <span style=\"color: #008000; text-decoration-color: #008000\">'library:polars'</span>,\n",
       "            <span style=\"color: #008000; text-decoration-color: #008000\">'arxiv:2501.19393'</span>,\n",
       "            <span style=\"color: #008000; text-decoration-color: #008000\">'region:us'</span>\n",
       "        <span style=\"font-weight: bold\">]</span>,\n",
       "        <span style=\"color: #808000; text-decoration-color: #808000\">card_data</span>=<span style=\"color: #800080; text-decoration-color: #800080; font-style: italic\">None</span>,\n",
       "        <span style=\"color: #808000; text-decoration-color: #808000\">siblings</span>=<span style=\"color: #800080; text-decoration-color: #800080; font-style: italic\">None</span>\n",
       "    <span style=\"font-weight: bold\">)</span>,\n",
       "    <span style=\"color: #800080; text-decoration-color: #800080; font-weight: bold\">DatasetInfo</span><span style=\"font-weight: bold\">(</span>\n",
       "        <span style=\"color: #808000; text-decoration-color: #808000\">id</span>=<span style=\"color: #008000; text-decoration-color: #008000\">'fka/awesome-chatgpt-prompts'</span>,\n",
       "        <span style=\"color: #808000; text-decoration-color: #808000\">author</span>=<span style=\"color: #008000; text-decoration-color: #008000\">'fka'</span>,\n",
       "        <span style=\"color: #808000; text-decoration-color: #808000\">sha</span>=<span style=\"color: #008000; text-decoration-color: #008000\">'68ba7694e23014788dcc8ab5afe613824f45a05c'</span>,\n",
       "        <span style=\"color: #808000; text-decoration-color: #808000\">created_at</span>=<span style=\"color: #800080; text-decoration-color: #800080; font-weight: bold\">datetime</span><span style=\"color: #800080; text-decoration-color: #800080; font-weight: bold\">.datetime</span><span style=\"font-weight: bold\">(</span><span style=\"color: #008080; text-decoration-color: #008080; font-weight: bold\">2022</span>, <span style=\"color: #008080; text-decoration-color: #008080; font-weight: bold\">12</span>, <span style=\"color: #008080; text-decoration-color: #008080; font-weight: bold\">13</span>, <span style=\"color: #008080; text-decoration-color: #008080; font-weight: bold\">23</span>, <span style=\"color: #008080; text-decoration-color: #008080; font-weight: bold\">47</span>, <span style=\"color: #008080; text-decoration-color: #008080; font-weight: bold\">45</span>, <span style=\"color: #808000; text-decoration-color: #808000\">tzinfo</span>=<span style=\"color: #800080; text-decoration-color: #800080\">datetime</span>.timezone.utc<span style=\"font-weight: bold\">)</span>,\n",
       "        <span style=\"color: #808000; text-decoration-color: #808000\">last_modified</span>=<span style=\"color: #800080; text-decoration-color: #800080; font-weight: bold\">datetime</span><span style=\"color: #800080; text-decoration-color: #800080; font-weight: bold\">.datetime</span><span style=\"font-weight: bold\">(</span><span style=\"color: #008080; text-decoration-color: #008080; font-weight: bold\">2025</span>, <span style=\"color: #008080; text-decoration-color: #008080; font-weight: bold\">1</span>, <span style=\"color: #008080; text-decoration-color: #008080; font-weight: bold\">6</span>, <span style=\"color: #008080; text-decoration-color: #008080; font-weight: bold\">0</span>, <span style=\"color: #008080; text-decoration-color: #008080; font-weight: bold\">2</span>, <span style=\"color: #008080; text-decoration-color: #008080; font-weight: bold\">53</span>, <span style=\"color: #808000; text-decoration-color: #808000\">tzinfo</span>=<span style=\"color: #800080; text-decoration-color: #800080\">datetime</span>.timezone.utc<span style=\"font-weight: bold\">)</span>,\n",
       "        <span style=\"color: #808000; text-decoration-color: #808000\">private</span>=<span style=\"color: #ff0000; text-decoration-color: #ff0000; font-style: italic\">False</span>,\n",
       "        <span style=\"color: #808000; text-decoration-color: #808000\">gated</span>=<span style=\"color: #ff0000; text-decoration-color: #ff0000; font-style: italic\">False</span>,\n",
       "        <span style=\"color: #808000; text-decoration-color: #808000\">disabled</span>=<span style=\"color: #ff0000; text-decoration-color: #ff0000; font-style: italic\">False</span>,\n",
       "        <span style=\"color: #808000; text-decoration-color: #808000\">downloads</span>=<span style=\"color: #008080; text-decoration-color: #008080; font-weight: bold\">10732</span>,\n",
       "        <span style=\"color: #808000; text-decoration-color: #808000\">downloads_all_time</span>=<span style=\"color: #800080; text-decoration-color: #800080; font-style: italic\">None</span>,\n",
       "        <span style=\"color: #808000; text-decoration-color: #808000\">likes</span>=<span style=\"color: #008080; text-decoration-color: #008080; font-weight: bold\">7427</span>,\n",
       "        <span style=\"color: #808000; text-decoration-color: #808000\">paperswithcode_id</span>=<span style=\"color: #800080; text-decoration-color: #800080; font-style: italic\">None</span>,\n",
       "        <span style=\"color: #808000; text-decoration-color: #808000\">tags</span>=<span style=\"font-weight: bold\">[</span>\n",
       "            <span style=\"color: #008000; text-decoration-color: #008000\">'task_categories:question-answering'</span>,\n",
       "            <span style=\"color: #008000; text-decoration-color: #008000\">'license:cc0-1.0'</span>,\n",
       "            <span style=\"color: #008000; text-decoration-color: #008000\">'size_categories:n&lt;1K'</span>,\n",
       "            <span style=\"color: #008000; text-decoration-color: #008000\">'format:csv'</span>,\n",
       "            <span style=\"color: #008000; text-decoration-color: #008000\">'modality:text'</span>,\n",
       "            <span style=\"color: #008000; text-decoration-color: #008000\">'library:datasets'</span>,\n",
       "            <span style=\"color: #008000; text-decoration-color: #008000\">'library:pandas'</span>,\n",
       "            <span style=\"color: #008000; text-decoration-color: #008000\">'library:mlcroissant'</span>,\n",
       "            <span style=\"color: #008000; text-decoration-color: #008000\">'library:polars'</span>,\n",
       "            <span style=\"color: #008000; text-decoration-color: #008000\">'region:us'</span>,\n",
       "            <span style=\"color: #008000; text-decoration-color: #008000\">'ChatGPT'</span>\n",
       "        <span style=\"font-weight: bold\">]</span>,\n",
       "        <span style=\"color: #808000; text-decoration-color: #808000\">card_data</span>=<span style=\"color: #800080; text-decoration-color: #800080; font-style: italic\">None</span>,\n",
       "        <span style=\"color: #808000; text-decoration-color: #808000\">siblings</span>=<span style=\"color: #800080; text-decoration-color: #800080; font-style: italic\">None</span>\n",
       "    <span style=\"font-weight: bold\">)</span>,\n",
       "    <span style=\"color: #800080; text-decoration-color: #800080; font-weight: bold\">DatasetInfo</span><span style=\"font-weight: bold\">(</span>\n",
       "        <span style=\"color: #808000; text-decoration-color: #808000\">id</span>=<span style=\"color: #008000; text-decoration-color: #008000\">'open-r1/OpenR1-Math-220k'</span>,\n",
       "        <span style=\"color: #808000; text-decoration-color: #808000\">author</span>=<span style=\"color: #008000; text-decoration-color: #008000\">'open-r1'</span>,\n",
       "        <span style=\"color: #808000; text-decoration-color: #808000\">sha</span>=<span style=\"color: #008000; text-decoration-color: #008000\">'2514d018a61bd74d10026ef3bfeb4e971fae1489'</span>,\n",
       "        <span style=\"color: #808000; text-decoration-color: #808000\">created_at</span>=<span style=\"color: #800080; text-decoration-color: #800080; font-weight: bold\">datetime</span><span style=\"color: #800080; text-decoration-color: #800080; font-weight: bold\">.datetime</span><span style=\"font-weight: bold\">(</span><span style=\"color: #008080; text-decoration-color: #008080; font-weight: bold\">2025</span>, <span style=\"color: #008080; text-decoration-color: #008080; font-weight: bold\">2</span>, <span style=\"color: #008080; text-decoration-color: #008080; font-weight: bold\">10</span>, <span style=\"color: #008080; text-decoration-color: #008080; font-weight: bold\">13</span>, <span style=\"color: #008080; text-decoration-color: #008080; font-weight: bold\">41</span>, <span style=\"color: #008080; text-decoration-color: #008080; font-weight: bold\">48</span>, <span style=\"color: #808000; text-decoration-color: #808000\">tzinfo</span>=<span style=\"color: #800080; text-decoration-color: #800080\">datetime</span>.timezone.utc<span style=\"font-weight: bold\">)</span>,\n",
       "        <span style=\"color: #808000; text-decoration-color: #808000\">last_modified</span>=<span style=\"color: #800080; text-decoration-color: #800080; font-weight: bold\">datetime</span><span style=\"color: #800080; text-decoration-color: #800080; font-weight: bold\">.datetime</span><span style=\"font-weight: bold\">(</span><span style=\"color: #008080; text-decoration-color: #008080; font-weight: bold\">2025</span>, <span style=\"color: #008080; text-decoration-color: #008080; font-weight: bold\">2</span>, <span style=\"color: #008080; text-decoration-color: #008080; font-weight: bold\">10</span>, <span style=\"color: #008080; text-decoration-color: #008080; font-weight: bold\">17</span>, <span style=\"color: #008080; text-decoration-color: #008080; font-weight: bold\">4</span>, <span style=\"color: #008080; text-decoration-color: #008080; font-weight: bold\">28</span>, <span style=\"color: #808000; text-decoration-color: #808000\">tzinfo</span>=<span style=\"color: #800080; text-decoration-color: #800080\">datetime</span>.timezone.utc<span style=\"font-weight: bold\">)</span>,\n",
       "        <span style=\"color: #808000; text-decoration-color: #808000\">private</span>=<span style=\"color: #ff0000; text-decoration-color: #ff0000; font-style: italic\">False</span>,\n",
       "        <span style=\"color: #808000; text-decoration-color: #808000\">gated</span>=<span style=\"color: #ff0000; text-decoration-color: #ff0000; font-style: italic\">False</span>,\n",
       "        <span style=\"color: #808000; text-decoration-color: #808000\">disabled</span>=<span style=\"color: #ff0000; text-decoration-color: #ff0000; font-style: italic\">False</span>,\n",
       "        <span style=\"color: #808000; text-decoration-color: #808000\">downloads</span>=<span style=\"color: #008080; text-decoration-color: #008080; font-weight: bold\">260</span>,\n",
       "        <span style=\"color: #808000; text-decoration-color: #808000\">downloads_all_time</span>=<span style=\"color: #800080; text-decoration-color: #800080; font-style: italic\">None</span>,\n",
       "        <span style=\"color: #808000; text-decoration-color: #808000\">likes</span>=<span style=\"color: #008080; text-decoration-color: #008080; font-weight: bold\">104</span>,\n",
       "        <span style=\"color: #808000; text-decoration-color: #808000\">paperswithcode_id</span>=<span style=\"color: #800080; text-decoration-color: #800080; font-style: italic\">None</span>,\n",
       "        <span style=\"color: #808000; text-decoration-color: #808000\">tags</span>=<span style=\"font-weight: bold\">[</span>\n",
       "            <span style=\"color: #008000; text-decoration-color: #008000\">'language:en'</span>,\n",
       "            <span style=\"color: #008000; text-decoration-color: #008000\">'license:apache-2.0'</span>,\n",
       "            <span style=\"color: #008000; text-decoration-color: #008000\">'size_categories:100K&lt;n&lt;1M'</span>,\n",
       "            <span style=\"color: #008000; text-decoration-color: #008000\">'format:parquet'</span>,\n",
       "            <span style=\"color: #008000; text-decoration-color: #008000\">'modality:text'</span>,\n",
       "            <span style=\"color: #008000; text-decoration-color: #008000\">'library:datasets'</span>,\n",
       "            <span style=\"color: #008000; text-decoration-color: #008000\">'library:dask'</span>,\n",
       "            <span style=\"color: #008000; text-decoration-color: #008000\">'library:mlcroissant'</span>,\n",
       "            <span style=\"color: #008000; text-decoration-color: #008000\">'library:polars'</span>,\n",
       "            <span style=\"color: #008000; text-decoration-color: #008000\">'region:us'</span>\n",
       "        <span style=\"font-weight: bold\">]</span>,\n",
       "        <span style=\"color: #808000; text-decoration-color: #808000\">card_data</span>=<span style=\"color: #800080; text-decoration-color: #800080; font-style: italic\">None</span>,\n",
       "        <span style=\"color: #808000; text-decoration-color: #808000\">siblings</span>=<span style=\"color: #800080; text-decoration-color: #800080; font-style: italic\">None</span>\n",
       "    <span style=\"font-weight: bold\">)</span>,\n",
       "    <span style=\"color: #800080; text-decoration-color: #800080; font-weight: bold\">DatasetInfo</span><span style=\"font-weight: bold\">(</span>\n",
       "        <span style=\"color: #808000; text-decoration-color: #808000\">id</span>=<span style=\"color: #008000; text-decoration-color: #008000\">'HuggingFaceFW/fineweb'</span>,\n",
       "        <span style=\"color: #808000; text-decoration-color: #808000\">author</span>=<span style=\"color: #008000; text-decoration-color: #008000\">'HuggingFaceFW'</span>,\n",
       "        <span style=\"color: #808000; text-decoration-color: #808000\">sha</span>=<span style=\"color: #008000; text-decoration-color: #008000\">'0f039043b23fe1d4eed300b504aa4b4a68f1c7ba'</span>,\n",
       "        <span style=\"color: #808000; text-decoration-color: #808000\">created_at</span>=<span style=\"color: #800080; text-decoration-color: #800080; font-weight: bold\">datetime</span><span style=\"color: #800080; text-decoration-color: #800080; font-weight: bold\">.datetime</span><span style=\"font-weight: bold\">(</span><span style=\"color: #008080; text-decoration-color: #008080; font-weight: bold\">2024</span>, <span style=\"color: #008080; text-decoration-color: #008080; font-weight: bold\">4</span>, <span style=\"color: #008080; text-decoration-color: #008080; font-weight: bold\">18</span>, <span style=\"color: #008080; text-decoration-color: #008080; font-weight: bold\">14</span>, <span style=\"color: #008080; text-decoration-color: #008080; font-weight: bold\">33</span>, <span style=\"color: #008080; text-decoration-color: #008080; font-weight: bold\">13</span>, <span style=\"color: #808000; text-decoration-color: #808000\">tzinfo</span>=<span style=\"color: #800080; text-decoration-color: #800080\">datetime</span>.timezone.utc<span style=\"font-weight: bold\">)</span>,\n",
       "        <span style=\"color: #808000; text-decoration-color: #808000\">last_modified</span>=<span style=\"color: #800080; text-decoration-color: #800080; font-weight: bold\">datetime</span><span style=\"color: #800080; text-decoration-color: #800080; font-weight: bold\">.datetime</span><span style=\"font-weight: bold\">(</span><span style=\"color: #008080; text-decoration-color: #008080; font-weight: bold\">2025</span>, <span style=\"color: #008080; text-decoration-color: #008080; font-weight: bold\">1</span>, <span style=\"color: #008080; text-decoration-color: #008080; font-weight: bold\">31</span>, <span style=\"color: #008080; text-decoration-color: #008080; font-weight: bold\">14</span>, <span style=\"color: #008080; text-decoration-color: #008080; font-weight: bold\">10</span>, <span style=\"color: #008080; text-decoration-color: #008080; font-weight: bold\">44</span>, <span style=\"color: #808000; text-decoration-color: #808000\">tzinfo</span>=<span style=\"color: #800080; text-decoration-color: #800080\">datetime</span>.timezone.utc<span style=\"font-weight: bold\">)</span>,\n",
       "        <span style=\"color: #808000; text-decoration-color: #808000\">private</span>=<span style=\"color: #ff0000; text-decoration-color: #ff0000; font-style: italic\">False</span>,\n",
       "        <span style=\"color: #808000; text-decoration-color: #808000\">gated</span>=<span style=\"color: #ff0000; text-decoration-color: #ff0000; font-style: italic\">False</span>,\n",
       "        <span style=\"color: #808000; text-decoration-color: #808000\">disabled</span>=<span style=\"color: #ff0000; text-decoration-color: #ff0000; font-style: italic\">False</span>,\n",
       "        <span style=\"color: #808000; text-decoration-color: #808000\">downloads</span>=<span style=\"color: #008080; text-decoration-color: #008080; font-weight: bold\">491659</span>,\n",
       "        <span style=\"color: #808000; text-decoration-color: #808000\">downloads_all_time</span>=<span style=\"color: #800080; text-decoration-color: #800080; font-style: italic\">None</span>,\n",
       "        <span style=\"color: #808000; text-decoration-color: #808000\">likes</span>=<span style=\"color: #008080; text-decoration-color: #008080; font-weight: bold\">1919</span>,\n",
       "        <span style=\"color: #808000; text-decoration-color: #808000\">paperswithcode_id</span>=<span style=\"color: #800080; text-decoration-color: #800080; font-style: italic\">None</span>,\n",
       "        <span style=\"color: #808000; text-decoration-color: #808000\">tags</span>=<span style=\"font-weight: bold\">[</span>\n",
       "            <span style=\"color: #008000; text-decoration-color: #008000\">'task_categories:text-generation'</span>,\n",
       "            <span style=\"color: #008000; text-decoration-color: #008000\">'language:en'</span>,\n",
       "            <span style=\"color: #008000; text-decoration-color: #008000\">'license:odc-by'</span>,\n",
       "            <span style=\"color: #008000; text-decoration-color: #008000\">'size_categories:10B&lt;n&lt;100B'</span>,\n",
       "            <span style=\"color: #008000; text-decoration-color: #008000\">'format:parquet'</span>,\n",
       "            <span style=\"color: #008000; text-decoration-color: #008000\">'modality:tabular'</span>,\n",
       "            <span style=\"color: #008000; text-decoration-color: #008000\">'modality:text'</span>,\n",
       "            <span style=\"color: #008000; text-decoration-color: #008000\">'library:datasets'</span>,\n",
       "            <span style=\"color: #008000; text-decoration-color: #008000\">'library:dask'</span>,\n",
       "            <span style=\"color: #008000; text-decoration-color: #008000\">'library:mlcroissant'</span>,\n",
       "            <span style=\"color: #008000; text-decoration-color: #008000\">'library:polars'</span>,\n",
       "            <span style=\"color: #008000; text-decoration-color: #008000\">'arxiv:2306.01116'</span>,\n",
       "            <span style=\"color: #008000; text-decoration-color: #008000\">'arxiv:2109.07445'</span>,\n",
       "            <span style=\"color: #008000; text-decoration-color: #008000\">'arxiv:2406.17557'</span>,\n",
       "            <span style=\"color: #008000; text-decoration-color: #008000\">'doi:10.57967/hf/2493'</span>,\n",
       "            <span style=\"color: #008000; text-decoration-color: #008000\">'region:us'</span>\n",
       "        <span style=\"font-weight: bold\">]</span>,\n",
       "        <span style=\"color: #808000; text-decoration-color: #808000\">card_data</span>=<span style=\"color: #800080; text-decoration-color: #800080; font-style: italic\">None</span>,\n",
       "        <span style=\"color: #808000; text-decoration-color: #808000\">siblings</span>=<span style=\"color: #800080; text-decoration-color: #800080; font-style: italic\">None</span>\n",
       "    <span style=\"font-weight: bold\">)</span>,\n",
       "    <span style=\"color: #800080; text-decoration-color: #800080; font-weight: bold\">DatasetInfo</span><span style=\"font-weight: bold\">(</span>\n",
       "        <span style=\"color: #808000; text-decoration-color: #808000\">id</span>=<span style=\"color: #008000; text-decoration-color: #008000\">'ServiceNow-AI/R1-Distill-SFT'</span>,\n",
       "        <span style=\"color: #808000; text-decoration-color: #808000\">author</span>=<span style=\"color: #008000; text-decoration-color: #008000\">'ServiceNow-AI'</span>,\n",
       "        <span style=\"color: #808000; text-decoration-color: #808000\">sha</span>=<span style=\"color: #008000; text-decoration-color: #008000\">'16e851e107d928b9069dcce428a2d3d7154e5353'</span>,\n",
       "        <span style=\"color: #808000; text-decoration-color: #808000\">created_at</span>=<span style=\"color: #800080; text-decoration-color: #800080; font-weight: bold\">datetime</span><span style=\"color: #800080; text-decoration-color: #800080; font-weight: bold\">.datetime</span><span style=\"font-weight: bold\">(</span><span style=\"color: #008080; text-decoration-color: #008080; font-weight: bold\">2025</span>, <span style=\"color: #008080; text-decoration-color: #008080; font-weight: bold\">1</span>, <span style=\"color: #008080; text-decoration-color: #008080; font-weight: bold\">25</span>, <span style=\"color: #008080; text-decoration-color: #008080; font-weight: bold\">20</span>, <span style=\"color: #008080; text-decoration-color: #008080; font-weight: bold\">31</span>, <span style=\"color: #008080; text-decoration-color: #008080; font-weight: bold\">49</span>, <span style=\"color: #808000; text-decoration-color: #808000\">tzinfo</span>=<span style=\"color: #800080; text-decoration-color: #800080\">datetime</span>.timezone.utc<span style=\"font-weight: bold\">)</span>,\n",
       "        <span style=\"color: #808000; text-decoration-color: #808000\">last_modified</span>=<span style=\"color: #800080; text-decoration-color: #800080; font-weight: bold\">datetime</span><span style=\"color: #800080; text-decoration-color: #800080; font-weight: bold\">.datetime</span><span style=\"font-weight: bold\">(</span><span style=\"color: #008080; text-decoration-color: #008080; font-weight: bold\">2025</span>, <span style=\"color: #008080; text-decoration-color: #008080; font-weight: bold\">2</span>, <span style=\"color: #008080; text-decoration-color: #008080; font-weight: bold\">8</span>, <span style=\"color: #008080; text-decoration-color: #008080; font-weight: bold\">22</span>, <span style=\"color: #008080; text-decoration-color: #008080; font-weight: bold\">46</span>, <span style=\"color: #008080; text-decoration-color: #008080; font-weight: bold\">58</span>, <span style=\"color: #808000; text-decoration-color: #808000\">tzinfo</span>=<span style=\"color: #800080; text-decoration-color: #800080\">datetime</span>.timezone.utc<span style=\"font-weight: bold\">)</span>,\n",
       "        <span style=\"color: #808000; text-decoration-color: #808000\">private</span>=<span style=\"color: #ff0000; text-decoration-color: #ff0000; font-style: italic\">False</span>,\n",
       "        <span style=\"color: #808000; text-decoration-color: #808000\">gated</span>=<span style=\"color: #ff0000; text-decoration-color: #ff0000; font-style: italic\">False</span>,\n",
       "        <span style=\"color: #808000; text-decoration-color: #808000\">disabled</span>=<span style=\"color: #ff0000; text-decoration-color: #ff0000; font-style: italic\">False</span>,\n",
       "        <span style=\"color: #808000; text-decoration-color: #808000\">downloads</span>=<span style=\"color: #008080; text-decoration-color: #008080; font-weight: bold\">4414</span>,\n",
       "        <span style=\"color: #808000; text-decoration-color: #808000\">downloads_all_time</span>=<span style=\"color: #800080; text-decoration-color: #800080; font-style: italic\">None</span>,\n",
       "        <span style=\"color: #808000; text-decoration-color: #808000\">likes</span>=<span style=\"color: #008080; text-decoration-color: #008080; font-weight: bold\">222</span>,\n",
       "        <span style=\"color: #808000; text-decoration-color: #808000\">paperswithcode_id</span>=<span style=\"color: #800080; text-decoration-color: #800080; font-style: italic\">None</span>,\n",
       "        <span style=\"color: #808000; text-decoration-color: #808000\">tags</span>=<span style=\"font-weight: bold\">[</span>\n",
       "            <span style=\"color: #008000; text-decoration-color: #008000\">'license:cc-by-nc-sa-4.0'</span>,\n",
       "            <span style=\"color: #008000; text-decoration-color: #008000\">'size_categories:1M&lt;n&lt;10M'</span>,\n",
       "            <span style=\"color: #008000; text-decoration-color: #008000\">'format:parquet'</span>,\n",
       "            <span style=\"color: #008000; text-decoration-color: #008000\">'modality:text'</span>,\n",
       "            <span style=\"color: #008000; text-decoration-color: #008000\">'library:datasets'</span>,\n",
       "            <span style=\"color: #008000; text-decoration-color: #008000\">'library:dask'</span>,\n",
       "            <span style=\"color: #008000; text-decoration-color: #008000\">'library:mlcroissant'</span>,\n",
       "            <span style=\"color: #008000; text-decoration-color: #008000\">'library:polars'</span>,\n",
       "            <span style=\"color: #008000; text-decoration-color: #008000\">'region:us'</span>\n",
       "        <span style=\"font-weight: bold\">]</span>,\n",
       "        <span style=\"color: #808000; text-decoration-color: #808000\">card_data</span>=<span style=\"color: #800080; text-decoration-color: #800080; font-style: italic\">None</span>,\n",
       "        <span style=\"color: #808000; text-decoration-color: #808000\">siblings</span>=<span style=\"color: #800080; text-decoration-color: #800080; font-style: italic\">None</span>\n",
       "    <span style=\"font-weight: bold\">)</span>,\n",
       "    <span style=\"color: #800080; text-decoration-color: #800080; font-weight: bold\">DatasetInfo</span><span style=\"font-weight: bold\">(</span>\n",
       "        <span style=\"color: #808000; text-decoration-color: #808000\">id</span>=<span style=\"color: #008000; text-decoration-color: #008000\">'GAIR/LIMO'</span>,\n",
       "        <span style=\"color: #808000; text-decoration-color: #808000\">author</span>=<span style=\"color: #008000; text-decoration-color: #008000\">'GAIR'</span>,\n",
       "        <span style=\"color: #808000; text-decoration-color: #808000\">sha</span>=<span style=\"color: #008000; text-decoration-color: #008000\">'b60f4462da9d927930b9c9bd43399cf875564416'</span>,\n",
       "        <span style=\"color: #808000; text-decoration-color: #808000\">created_at</span>=<span style=\"color: #800080; text-decoration-color: #800080; font-weight: bold\">datetime</span><span style=\"color: #800080; text-decoration-color: #800080; font-weight: bold\">.datetime</span><span style=\"font-weight: bold\">(</span><span style=\"color: #008080; text-decoration-color: #008080; font-weight: bold\">2025</span>, <span style=\"color: #008080; text-decoration-color: #008080; font-weight: bold\">2</span>, <span style=\"color: #008080; text-decoration-color: #008080; font-weight: bold\">5</span>, <span style=\"color: #008080; text-decoration-color: #008080; font-weight: bold\">6</span>, <span style=\"color: #008080; text-decoration-color: #008080; font-weight: bold\">43</span>, <span style=\"color: #008080; text-decoration-color: #008080; font-weight: bold\">28</span>, <span style=\"color: #808000; text-decoration-color: #808000\">tzinfo</span>=<span style=\"color: #800080; text-decoration-color: #800080\">datetime</span>.timezone.utc<span style=\"font-weight: bold\">)</span>,\n",
       "        <span style=\"color: #808000; text-decoration-color: #808000\">last_modified</span>=<span style=\"color: #800080; text-decoration-color: #800080; font-weight: bold\">datetime</span><span style=\"color: #800080; text-decoration-color: #800080; font-weight: bold\">.datetime</span><span style=\"font-weight: bold\">(</span><span style=\"color: #008080; text-decoration-color: #008080; font-weight: bold\">2025</span>, <span style=\"color: #008080; text-decoration-color: #008080; font-weight: bold\">2</span>, <span style=\"color: #008080; text-decoration-color: #008080; font-weight: bold\">10</span>, <span style=\"color: #008080; text-decoration-color: #008080; font-weight: bold\">7</span>, <span style=\"color: #008080; text-decoration-color: #008080; font-weight: bold\">42</span>, <span style=\"color: #008080; text-decoration-color: #008080; font-weight: bold\">21</span>, <span style=\"color: #808000; text-decoration-color: #808000\">tzinfo</span>=<span style=\"color: #800080; text-decoration-color: #800080\">datetime</span>.timezone.utc<span style=\"font-weight: bold\">)</span>,\n",
       "        <span style=\"color: #808000; text-decoration-color: #808000\">private</span>=<span style=\"color: #ff0000; text-decoration-color: #ff0000; font-style: italic\">False</span>,\n",
       "        <span style=\"color: #808000; text-decoration-color: #808000\">gated</span>=<span style=\"color: #ff0000; text-decoration-color: #ff0000; font-style: italic\">False</span>,\n",
       "        <span style=\"color: #808000; text-decoration-color: #808000\">disabled</span>=<span style=\"color: #ff0000; text-decoration-color: #ff0000; font-style: italic\">False</span>,\n",
       "        <span style=\"color: #808000; text-decoration-color: #808000\">downloads</span>=<span style=\"color: #008080; text-decoration-color: #008080; font-weight: bold\">1560</span>,\n",
       "        <span style=\"color: #808000; text-decoration-color: #808000\">downloads_all_time</span>=<span style=\"color: #800080; text-decoration-color: #800080; font-style: italic\">None</span>,\n",
       "        <span style=\"color: #808000; text-decoration-color: #808000\">likes</span>=<span style=\"color: #008080; text-decoration-color: #008080; font-weight: bold\">75</span>,\n",
       "        <span style=\"color: #808000; text-decoration-color: #808000\">paperswithcode_id</span>=<span style=\"color: #800080; text-decoration-color: #800080; font-style: italic\">None</span>,\n",
       "        <span style=\"color: #808000; text-decoration-color: #808000\">tags</span>=<span style=\"font-weight: bold\">[</span>\n",
       "            <span style=\"color: #008000; text-decoration-color: #008000\">'language:en'</span>,\n",
       "            <span style=\"color: #008000; text-decoration-color: #008000\">'license:apache-2.0'</span>,\n",
       "            <span style=\"color: #008000; text-decoration-color: #008000\">'size_categories:n&lt;1K'</span>,\n",
       "            <span style=\"color: #008000; text-decoration-color: #008000\">'format:json'</span>,\n",
       "            <span style=\"color: #008000; text-decoration-color: #008000\">'modality:text'</span>,\n",
       "            <span style=\"color: #008000; text-decoration-color: #008000\">'library:datasets'</span>,\n",
       "            <span style=\"color: #008000; text-decoration-color: #008000\">'library:pandas'</span>,\n",
       "            <span style=\"color: #008000; text-decoration-color: #008000\">'library:mlcroissant'</span>,\n",
       "            <span style=\"color: #008000; text-decoration-color: #008000\">'library:polars'</span>,\n",
       "            <span style=\"color: #008000; text-decoration-color: #008000\">'arxiv:2502.03387'</span>,\n",
       "            <span style=\"color: #008000; text-decoration-color: #008000\">'region:us'</span>\n",
       "        <span style=\"font-weight: bold\">]</span>,\n",
       "        <span style=\"color: #808000; text-decoration-color: #808000\">card_data</span>=<span style=\"color: #800080; text-decoration-color: #800080; font-style: italic\">None</span>,\n",
       "        <span style=\"color: #808000; text-decoration-color: #808000\">siblings</span>=<span style=\"color: #800080; text-decoration-color: #800080; font-style: italic\">None</span>\n",
       "    <span style=\"font-weight: bold\">)</span>,\n",
       "    <span style=\"color: #800080; text-decoration-color: #800080; font-weight: bold\">DatasetInfo</span><span style=\"font-weight: bold\">(</span>\n",
       "        <span style=\"color: #808000; text-decoration-color: #808000\">id</span>=<span style=\"color: #008000; text-decoration-color: #008000\">'FreedomIntelligence/medical-o1-reasoning-SFT'</span>,\n",
       "        <span style=\"color: #808000; text-decoration-color: #808000\">author</span>=<span style=\"color: #008000; text-decoration-color: #008000\">'FreedomIntelligence'</span>,\n",
       "        <span style=\"color: #808000; text-decoration-color: #808000\">sha</span>=<span style=\"color: #008000; text-decoration-color: #008000\">'4c9573e7de1e8660b88158db2efa7c7204bbd269'</span>,\n",
       "        <span style=\"color: #808000; text-decoration-color: #808000\">created_at</span>=<span style=\"color: #800080; text-decoration-color: #800080; font-weight: bold\">datetime</span><span style=\"color: #800080; text-decoration-color: #800080; font-weight: bold\">.datetime</span><span style=\"font-weight: bold\">(</span><span style=\"color: #008080; text-decoration-color: #008080; font-weight: bold\">2024</span>, <span style=\"color: #008080; text-decoration-color: #008080; font-weight: bold\">12</span>, <span style=\"color: #008080; text-decoration-color: #008080; font-weight: bold\">28</span>, <span style=\"color: #008080; text-decoration-color: #008080; font-weight: bold\">3</span>, <span style=\"color: #008080; text-decoration-color: #008080; font-weight: bold\">29</span>, <span style=\"color: #008080; text-decoration-color: #008080; font-weight: bold\">8</span>, <span style=\"color: #808000; text-decoration-color: #808000\">tzinfo</span>=<span style=\"color: #800080; text-decoration-color: #800080\">datetime</span>.timezone.utc<span style=\"font-weight: bold\">)</span>,\n",
       "        <span style=\"color: #808000; text-decoration-color: #808000\">last_modified</span>=<span style=\"color: #800080; text-decoration-color: #800080; font-weight: bold\">datetime</span><span style=\"color: #800080; text-decoration-color: #800080; font-weight: bold\">.datetime</span><span style=\"font-weight: bold\">(</span><span style=\"color: #008080; text-decoration-color: #008080; font-weight: bold\">2025</span>, <span style=\"color: #008080; text-decoration-color: #008080; font-weight: bold\">1</span>, <span style=\"color: #008080; text-decoration-color: #008080; font-weight: bold\">13</span>, <span style=\"color: #008080; text-decoration-color: #008080; font-weight: bold\">6</span>, <span style=\"color: #008080; text-decoration-color: #008080; font-weight: bold\">46</span>, <span style=\"color: #008080; text-decoration-color: #008080; font-weight: bold\">27</span>, <span style=\"color: #808000; text-decoration-color: #808000\">tzinfo</span>=<span style=\"color: #800080; text-decoration-color: #800080\">datetime</span>.timezone.utc<span style=\"font-weight: bold\">)</span>,\n",
       "        <span style=\"color: #808000; text-decoration-color: #808000\">private</span>=<span style=\"color: #ff0000; text-decoration-color: #ff0000; font-style: italic\">False</span>,\n",
       "        <span style=\"color: #808000; text-decoration-color: #808000\">gated</span>=<span style=\"color: #ff0000; text-decoration-color: #ff0000; font-style: italic\">False</span>,\n",
       "        <span style=\"color: #808000; text-decoration-color: #808000\">disabled</span>=<span style=\"color: #ff0000; text-decoration-color: #ff0000; font-style: italic\">False</span>,\n",
       "        <span style=\"color: #808000; text-decoration-color: #808000\">downloads</span>=<span style=\"color: #008080; text-decoration-color: #008080; font-weight: bold\">6079</span>,\n",
       "        <span style=\"color: #808000; text-decoration-color: #808000\">downloads_all_time</span>=<span style=\"color: #800080; text-decoration-color: #800080; font-style: italic\">None</span>,\n",
       "        <span style=\"color: #808000; text-decoration-color: #808000\">likes</span>=<span style=\"color: #008080; text-decoration-color: #008080; font-weight: bold\">174</span>,\n",
       "        <span style=\"color: #808000; text-decoration-color: #808000\">paperswithcode_id</span>=<span style=\"color: #800080; text-decoration-color: #800080; font-style: italic\">None</span>,\n",
       "        <span style=\"color: #808000; text-decoration-color: #808000\">tags</span>=<span style=\"font-weight: bold\">[</span>\n",
       "            <span style=\"color: #008000; text-decoration-color: #008000\">'task_categories:question-answering'</span>,\n",
       "            <span style=\"color: #008000; text-decoration-color: #008000\">'task_categories:text-generation'</span>,\n",
       "            <span style=\"color: #008000; text-decoration-color: #008000\">'language:en'</span>,\n",
       "            <span style=\"color: #008000; text-decoration-color: #008000\">'language:zh'</span>,\n",
       "            <span style=\"color: #008000; text-decoration-color: #008000\">'license:apache-2.0'</span>,\n",
       "            <span style=\"color: #008000; text-decoration-color: #008000\">'size_categories:10K&lt;n&lt;100K'</span>,\n",
       "            <span style=\"color: #008000; text-decoration-color: #008000\">'format:json'</span>,\n",
       "            <span style=\"color: #008000; text-decoration-color: #008000\">'modality:text'</span>,\n",
       "            <span style=\"color: #008000; text-decoration-color: #008000\">'library:datasets'</span>,\n",
       "            <span style=\"color: #008000; text-decoration-color: #008000\">'library:pandas'</span>,\n",
       "            <span style=\"color: #008000; text-decoration-color: #008000\">'library:mlcroissant'</span>,\n",
       "            <span style=\"color: #008000; text-decoration-color: #008000\">'library:polars'</span>,\n",
       "            <span style=\"color: #008000; text-decoration-color: #008000\">'arxiv:2412.18925'</span>,\n",
       "            <span style=\"color: #008000; text-decoration-color: #008000\">'region:us'</span>,\n",
       "            <span style=\"color: #008000; text-decoration-color: #008000\">'medical'</span>,\n",
       "            <span style=\"color: #008000; text-decoration-color: #008000\">'biology'</span>\n",
       "        <span style=\"font-weight: bold\">]</span>,\n",
       "        <span style=\"color: #808000; text-decoration-color: #808000\">card_data</span>=<span style=\"color: #800080; text-decoration-color: #800080; font-style: italic\">None</span>,\n",
       "        <span style=\"color: #808000; text-decoration-color: #808000\">siblings</span>=<span style=\"color: #800080; text-decoration-color: #800080; font-style: italic\">None</span>\n",
       "    <span style=\"font-weight: bold\">)</span>,\n",
       "    <span style=\"color: #800080; text-decoration-color: #800080; font-weight: bold\">DatasetInfo</span><span style=\"font-weight: bold\">(</span>\n",
       "        <span style=\"color: #808000; text-decoration-color: #808000\">id</span>=<span style=\"color: #008000; text-decoration-color: #008000\">'cognitivecomputations/dolphin-r1'</span>,\n",
       "        <span style=\"color: #808000; text-decoration-color: #808000\">author</span>=<span style=\"color: #008000; text-decoration-color: #008000\">'cognitivecomputations'</span>,\n",
       "        <span style=\"color: #808000; text-decoration-color: #808000\">sha</span>=<span style=\"color: #008000; text-decoration-color: #008000\">'f6ac651b3911352ce9bc6d3340c98a66007feb88'</span>,\n",
       "        <span style=\"color: #808000; text-decoration-color: #808000\">created_at</span>=<span style=\"color: #800080; text-decoration-color: #800080; font-weight: bold\">datetime</span><span style=\"color: #800080; text-decoration-color: #800080; font-weight: bold\">.datetime</span><span style=\"font-weight: bold\">(</span><span style=\"color: #008080; text-decoration-color: #008080; font-weight: bold\">2025</span>, <span style=\"color: #008080; text-decoration-color: #008080; font-weight: bold\">1</span>, <span style=\"color: #008080; text-decoration-color: #008080; font-weight: bold\">30</span>, <span style=\"color: #008080; text-decoration-color: #008080; font-weight: bold\">2</span>, <span style=\"color: #008080; text-decoration-color: #008080; font-weight: bold\">44</span>, <span style=\"color: #008080; text-decoration-color: #008080; font-weight: bold\">13</span>, <span style=\"color: #808000; text-decoration-color: #808000\">tzinfo</span>=<span style=\"color: #800080; text-decoration-color: #800080\">datetime</span>.timezone.utc<span style=\"font-weight: bold\">)</span>,\n",
       "        <span style=\"color: #808000; text-decoration-color: #808000\">last_modified</span>=<span style=\"color: #800080; text-decoration-color: #800080; font-weight: bold\">datetime</span><span style=\"color: #800080; text-decoration-color: #800080; font-weight: bold\">.datetime</span><span style=\"font-weight: bold\">(</span><span style=\"color: #008080; text-decoration-color: #008080; font-weight: bold\">2025</span>, <span style=\"color: #008080; text-decoration-color: #008080; font-weight: bold\">1</span>, <span style=\"color: #008080; text-decoration-color: #008080; font-weight: bold\">30</span>, <span style=\"color: #008080; text-decoration-color: #008080; font-weight: bold\">18</span>, <span style=\"color: #008080; text-decoration-color: #008080; font-weight: bold\">51</span>, <span style=\"color: #008080; text-decoration-color: #008080; font-weight: bold\">36</span>, <span style=\"color: #808000; text-decoration-color: #808000\">tzinfo</span>=<span style=\"color: #800080; text-decoration-color: #800080\">datetime</span>.timezone.utc<span style=\"font-weight: bold\">)</span>,\n",
       "        <span style=\"color: #808000; text-decoration-color: #808000\">private</span>=<span style=\"color: #ff0000; text-decoration-color: #ff0000; font-style: italic\">False</span>,\n",
       "        <span style=\"color: #808000; text-decoration-color: #808000\">gated</span>=<span style=\"color: #ff0000; text-decoration-color: #ff0000; font-style: italic\">False</span>,\n",
       "        <span style=\"color: #808000; text-decoration-color: #808000\">disabled</span>=<span style=\"color: #ff0000; text-decoration-color: #ff0000; font-style: italic\">False</span>,\n",
       "        <span style=\"color: #808000; text-decoration-color: #808000\">downloads</span>=<span style=\"color: #008080; text-decoration-color: #008080; font-weight: bold\">3519</span>,\n",
       "        <span style=\"color: #808000; text-decoration-color: #808000\">downloads_all_time</span>=<span style=\"color: #800080; text-decoration-color: #800080; font-style: italic\">None</span>,\n",
       "        <span style=\"color: #808000; text-decoration-color: #808000\">likes</span>=<span style=\"color: #008080; text-decoration-color: #008080; font-weight: bold\">226</span>,\n",
       "        <span style=\"color: #808000; text-decoration-color: #808000\">paperswithcode_id</span>=<span style=\"color: #800080; text-decoration-color: #800080; font-style: italic\">None</span>,\n",
       "        <span style=\"color: #808000; text-decoration-color: #808000\">tags</span>=<span style=\"font-weight: bold\">[</span>\n",
       "            <span style=\"color: #008000; text-decoration-color: #008000\">'license:apache-2.0'</span>,\n",
       "            <span style=\"color: #008000; text-decoration-color: #008000\">'size_categories:100K&lt;n&lt;1M'</span>,\n",
       "            <span style=\"color: #008000; text-decoration-color: #008000\">'format:json'</span>,\n",
       "            <span style=\"color: #008000; text-decoration-color: #008000\">'modality:tabular'</span>,\n",
       "            <span style=\"color: #008000; text-decoration-color: #008000\">'modality:text'</span>,\n",
       "            <span style=\"color: #008000; text-decoration-color: #008000\">'library:datasets'</span>,\n",
       "            <span style=\"color: #008000; text-decoration-color: #008000\">'library:pandas'</span>,\n",
       "            <span style=\"color: #008000; text-decoration-color: #008000\">'library:mlcroissant'</span>,\n",
       "            <span style=\"color: #008000; text-decoration-color: #008000\">'library:polars'</span>,\n",
       "            <span style=\"color: #008000; text-decoration-color: #008000\">'region:us'</span>\n",
       "        <span style=\"font-weight: bold\">]</span>,\n",
       "        <span style=\"color: #808000; text-decoration-color: #808000\">card_data</span>=<span style=\"color: #800080; text-decoration-color: #800080; font-style: italic\">None</span>,\n",
       "        <span style=\"color: #808000; text-decoration-color: #808000\">siblings</span>=<span style=\"color: #800080; text-decoration-color: #800080; font-style: italic\">None</span>\n",
       "    <span style=\"font-weight: bold\">)</span>,\n",
       "    <span style=\"color: #800080; text-decoration-color: #800080; font-weight: bold\">DatasetInfo</span><span style=\"font-weight: bold\">(</span>\n",
       "        <span style=\"color: #808000; text-decoration-color: #808000\">id</span>=<span style=\"color: #008000; text-decoration-color: #008000\">'saiyan-world/Goku-MovieGenBench'</span>,\n",
       "        <span style=\"color: #808000; text-decoration-color: #808000\">author</span>=<span style=\"color: #008000; text-decoration-color: #008000\">'saiyan-world'</span>,\n",
       "        <span style=\"color: #808000; text-decoration-color: #808000\">sha</span>=<span style=\"color: #008000; text-decoration-color: #008000\">'fd41363957a6bf5370e573e422fc89e4ec450218'</span>,\n",
       "        <span style=\"color: #808000; text-decoration-color: #808000\">created_at</span>=<span style=\"color: #800080; text-decoration-color: #800080; font-weight: bold\">datetime</span><span style=\"color: #800080; text-decoration-color: #800080; font-weight: bold\">.datetime</span><span style=\"font-weight: bold\">(</span><span style=\"color: #008080; text-decoration-color: #008080; font-weight: bold\">2025</span>, <span style=\"color: #008080; text-decoration-color: #008080; font-weight: bold\">2</span>, <span style=\"color: #008080; text-decoration-color: #008080; font-weight: bold\">6</span>, <span style=\"color: #008080; text-decoration-color: #008080; font-weight: bold\">12</span>, <span style=\"color: #008080; text-decoration-color: #008080; font-weight: bold\">47</span>, <span style=\"color: #008080; text-decoration-color: #008080; font-weight: bold\">26</span>, <span style=\"color: #808000; text-decoration-color: #808000\">tzinfo</span>=<span style=\"color: #800080; text-decoration-color: #800080\">datetime</span>.timezone.utc<span style=\"font-weight: bold\">)</span>,\n",
       "        <span style=\"color: #808000; text-decoration-color: #808000\">last_modified</span>=<span style=\"color: #800080; text-decoration-color: #800080; font-weight: bold\">datetime</span><span style=\"color: #800080; text-decoration-color: #800080; font-weight: bold\">.datetime</span><span style=\"font-weight: bold\">(</span><span style=\"color: #008080; text-decoration-color: #008080; font-weight: bold\">2025</span>, <span style=\"color: #008080; text-decoration-color: #008080; font-weight: bold\">2</span>, <span style=\"color: #008080; text-decoration-color: #008080; font-weight: bold\">11</span>, <span style=\"color: #008080; text-decoration-color: #008080; font-weight: bold\">3</span>, <span style=\"color: #008080; text-decoration-color: #008080; font-weight: bold\">18</span>, <span style=\"color: #008080; text-decoration-color: #008080; font-weight: bold\">5</span>, <span style=\"color: #808000; text-decoration-color: #808000\">tzinfo</span>=<span style=\"color: #800080; text-decoration-color: #800080\">datetime</span>.timezone.utc<span style=\"font-weight: bold\">)</span>,\n",
       "        <span style=\"color: #808000; text-decoration-color: #808000\">private</span>=<span style=\"color: #ff0000; text-decoration-color: #ff0000; font-style: italic\">False</span>,\n",
       "        <span style=\"color: #808000; text-decoration-color: #808000\">gated</span>=<span style=\"color: #ff0000; text-decoration-color: #ff0000; font-style: italic\">False</span>,\n",
       "        <span style=\"color: #808000; text-decoration-color: #808000\">disabled</span>=<span style=\"color: #ff0000; text-decoration-color: #ff0000; font-style: italic\">False</span>,\n",
       "        <span style=\"color: #808000; text-decoration-color: #808000\">downloads</span>=<span style=\"color: #008080; text-decoration-color: #008080; font-weight: bold\">8696</span>,\n",
       "        <span style=\"color: #808000; text-decoration-color: #808000\">downloads_all_time</span>=<span style=\"color: #800080; text-decoration-color: #800080; font-style: italic\">None</span>,\n",
       "        <span style=\"color: #808000; text-decoration-color: #808000\">likes</span>=<span style=\"color: #008080; text-decoration-color: #008080; font-weight: bold\">59</span>,\n",
       "        <span style=\"color: #808000; text-decoration-color: #808000\">paperswithcode_id</span>=<span style=\"color: #800080; text-decoration-color: #800080; font-style: italic\">None</span>,\n",
       "        <span style=\"color: #808000; text-decoration-color: #808000\">tags</span>=<span style=\"font-weight: bold\">[</span>\n",
       "            <span style=\"color: #008000; text-decoration-color: #008000\">'task_categories:text-to-video'</span>,\n",
       "            <span style=\"color: #008000; text-decoration-color: #008000\">'size_categories:1K&lt;n&lt;10K'</span>,\n",
       "            <span style=\"color: #008000; text-decoration-color: #008000\">'modality:video'</span>,\n",
       "            <span style=\"color: #008000; text-decoration-color: #008000\">'library:datasets'</span>,\n",
       "            <span style=\"color: #008000; text-decoration-color: #008000\">'library:mlcroissant'</span>,\n",
       "            <span style=\"color: #008000; text-decoration-color: #008000\">'arxiv:2502.04896'</span>,\n",
       "            <span style=\"color: #008000; text-decoration-color: #008000\">'region:us'</span>\n",
       "        <span style=\"font-weight: bold\">]</span>,\n",
       "        <span style=\"color: #808000; text-decoration-color: #808000\">card_data</span>=<span style=\"color: #800080; text-decoration-color: #800080; font-style: italic\">None</span>,\n",
       "        <span style=\"color: #808000; text-decoration-color: #808000\">siblings</span>=<span style=\"color: #800080; text-decoration-color: #800080; font-style: italic\">None</span>\n",
       "    <span style=\"font-weight: bold\">)</span>\n",
       "<span style=\"font-weight: bold\">]</span>\n",
       "</pre>\n"
      ],
      "text/plain": [
       "\u001b[1m[\u001b[0m\n",
       "    \u001b[1;35mDatasetInfo\u001b[0m\u001b[1m(\u001b[0m\n",
       "        \u001b[33mid\u001b[0m=\u001b[32m'open-thoughts/OpenThoughts-114k'\u001b[0m,\n",
       "        \u001b[33mauthor\u001b[0m=\u001b[32m'open-thoughts'\u001b[0m,\n",
       "        \u001b[33msha\u001b[0m=\u001b[32m'c54dc30ccd98b19445a41189d9e49784bdb4fee6'\u001b[0m,\n",
       "        \u001b[33mcreated_at\u001b[0m=\u001b[1;35mdatetime\u001b[0m\u001b[1;35m.datetime\u001b[0m\u001b[1m(\u001b[0m\u001b[1;36m2025\u001b[0m, \u001b[1;36m1\u001b[0m, \u001b[1;36m27\u001b[0m, \u001b[1;36m20\u001b[0m, \u001b[1;36m2\u001b[0m, \u001b[1;36m16\u001b[0m, \u001b[33mtzinfo\u001b[0m=\u001b[35mdatetime\u001b[0m.timezone.utc\u001b[1m)\u001b[0m,\n",
       "        \u001b[33mlast_modified\u001b[0m=\u001b[1;35mdatetime\u001b[0m\u001b[1;35m.datetime\u001b[0m\u001b[1m(\u001b[0m\u001b[1;36m2025\u001b[0m, \u001b[1;36m2\u001b[0m, \u001b[1;36m11\u001b[0m, \u001b[1;36m10\u001b[0m, \u001b[1;36m27\u001b[0m, \u001b[1;36m24\u001b[0m, \u001b[33mtzinfo\u001b[0m=\u001b[35mdatetime\u001b[0m.timezone.utc\u001b[1m)\u001b[0m,\n",
       "        \u001b[33mprivate\u001b[0m=\u001b[3;91mFalse\u001b[0m,\n",
       "        \u001b[33mgated\u001b[0m=\u001b[3;91mFalse\u001b[0m,\n",
       "        \u001b[33mdisabled\u001b[0m=\u001b[3;91mFalse\u001b[0m,\n",
       "        \u001b[33mdownloads\u001b[0m=\u001b[1;36m47077\u001b[0m,\n",
       "        \u001b[33mdownloads_all_time\u001b[0m=\u001b[3;35mNone\u001b[0m,\n",
       "        \u001b[33mlikes\u001b[0m=\u001b[1;36m398\u001b[0m,\n",
       "        \u001b[33mpaperswithcode_id\u001b[0m=\u001b[3;35mNone\u001b[0m,\n",
       "        \u001b[33mtags\u001b[0m=\u001b[1m[\u001b[0m\n",
       "            \u001b[32m'size_categories:100K<n<1M'\u001b[0m,\n",
       "            \u001b[32m'format:parquet'\u001b[0m,\n",
       "            \u001b[32m'modality:text'\u001b[0m,\n",
       "            \u001b[32m'library:datasets'\u001b[0m,\n",
       "            \u001b[32m'library:dask'\u001b[0m,\n",
       "            \u001b[32m'library:mlcroissant'\u001b[0m,\n",
       "            \u001b[32m'library:polars'\u001b[0m,\n",
       "            \u001b[32m'region:us'\u001b[0m,\n",
       "            \u001b[32m'curator'\u001b[0m,\n",
       "            \u001b[32m'synthetic'\u001b[0m\n",
       "        \u001b[1m]\u001b[0m,\n",
       "        \u001b[33mcard_data\u001b[0m=\u001b[3;35mNone\u001b[0m,\n",
       "        \u001b[33msiblings\u001b[0m=\u001b[3;35mNone\u001b[0m\n",
       "    \u001b[1m)\u001b[0m,\n",
       "    \u001b[1;35mDatasetInfo\u001b[0m\u001b[1m(\u001b[0m\n",
       "        \u001b[33mid\u001b[0m=\u001b[32m'simplescaling/s1K'\u001b[0m,\n",
       "        \u001b[33mauthor\u001b[0m=\u001b[32m'simplescaling'\u001b[0m,\n",
       "        \u001b[33msha\u001b[0m=\u001b[32m'278d72baaa2b887a7e76a70a0ae254a5a45536e4'\u001b[0m,\n",
       "        \u001b[33mcreated_at\u001b[0m=\u001b[1;35mdatetime\u001b[0m\u001b[1;35m.datetime\u001b[0m\u001b[1m(\u001b[0m\u001b[1;36m2025\u001b[0m, \u001b[1;36m1\u001b[0m, \u001b[1;36m14\u001b[0m, \u001b[1;36m7\u001b[0m, \u001b[1;36m54\u001b[0m, \u001b[1;36m43\u001b[0m, \u001b[33mtzinfo\u001b[0m=\u001b[35mdatetime\u001b[0m.timezone.utc\u001b[1m)\u001b[0m,\n",
       "        \u001b[33mlast_modified\u001b[0m=\u001b[1;35mdatetime\u001b[0m\u001b[1;35m.datetime\u001b[0m\u001b[1m(\u001b[0m\u001b[1;36m2025\u001b[0m, \u001b[1;36m2\u001b[0m, \u001b[1;36m11\u001b[0m, \u001b[1;36m1\u001b[0m, \u001b[1;36m14\u001b[0m, \u001b[1;36m45\u001b[0m, \u001b[33mtzinfo\u001b[0m=\u001b[35mdatetime\u001b[0m.timezone.utc\u001b[1m)\u001b[0m,\n",
       "        \u001b[33mprivate\u001b[0m=\u001b[3;91mFalse\u001b[0m,\n",
       "        \u001b[33mgated\u001b[0m=\u001b[3;91mFalse\u001b[0m,\n",
       "        \u001b[33mdisabled\u001b[0m=\u001b[3;91mFalse\u001b[0m,\n",
       "        \u001b[33mdownloads\u001b[0m=\u001b[1;36m2673\u001b[0m,\n",
       "        \u001b[33mdownloads_all_time\u001b[0m=\u001b[3;35mNone\u001b[0m,\n",
       "        \u001b[33mlikes\u001b[0m=\u001b[1;36m142\u001b[0m,\n",
       "        \u001b[33mpaperswithcode_id\u001b[0m=\u001b[3;35mNone\u001b[0m,\n",
       "        \u001b[33mtags\u001b[0m=\u001b[1m[\u001b[0m\n",
       "            \u001b[32m'license:apache-2.0'\u001b[0m,\n",
       "            \u001b[32m'size_categories:1K<n<10K'\u001b[0m,\n",
       "            \u001b[32m'format:parquet'\u001b[0m,\n",
       "            \u001b[32m'modality:text'\u001b[0m,\n",
       "            \u001b[32m'library:datasets'\u001b[0m,\n",
       "            \u001b[32m'library:pandas'\u001b[0m,\n",
       "            \u001b[32m'library:mlcroissant'\u001b[0m,\n",
       "            \u001b[32m'library:polars'\u001b[0m,\n",
       "            \u001b[32m'arxiv:2501.19393'\u001b[0m,\n",
       "            \u001b[32m'region:us'\u001b[0m\n",
       "        \u001b[1m]\u001b[0m,\n",
       "        \u001b[33mcard_data\u001b[0m=\u001b[3;35mNone\u001b[0m,\n",
       "        \u001b[33msiblings\u001b[0m=\u001b[3;35mNone\u001b[0m\n",
       "    \u001b[1m)\u001b[0m,\n",
       "    \u001b[1;35mDatasetInfo\u001b[0m\u001b[1m(\u001b[0m\n",
       "        \u001b[33mid\u001b[0m=\u001b[32m'fka/awesome-chatgpt-prompts'\u001b[0m,\n",
       "        \u001b[33mauthor\u001b[0m=\u001b[32m'fka'\u001b[0m,\n",
       "        \u001b[33msha\u001b[0m=\u001b[32m'68ba7694e23014788dcc8ab5afe613824f45a05c'\u001b[0m,\n",
       "        \u001b[33mcreated_at\u001b[0m=\u001b[1;35mdatetime\u001b[0m\u001b[1;35m.datetime\u001b[0m\u001b[1m(\u001b[0m\u001b[1;36m2022\u001b[0m, \u001b[1;36m12\u001b[0m, \u001b[1;36m13\u001b[0m, \u001b[1;36m23\u001b[0m, \u001b[1;36m47\u001b[0m, \u001b[1;36m45\u001b[0m, \u001b[33mtzinfo\u001b[0m=\u001b[35mdatetime\u001b[0m.timezone.utc\u001b[1m)\u001b[0m,\n",
       "        \u001b[33mlast_modified\u001b[0m=\u001b[1;35mdatetime\u001b[0m\u001b[1;35m.datetime\u001b[0m\u001b[1m(\u001b[0m\u001b[1;36m2025\u001b[0m, \u001b[1;36m1\u001b[0m, \u001b[1;36m6\u001b[0m, \u001b[1;36m0\u001b[0m, \u001b[1;36m2\u001b[0m, \u001b[1;36m53\u001b[0m, \u001b[33mtzinfo\u001b[0m=\u001b[35mdatetime\u001b[0m.timezone.utc\u001b[1m)\u001b[0m,\n",
       "        \u001b[33mprivate\u001b[0m=\u001b[3;91mFalse\u001b[0m,\n",
       "        \u001b[33mgated\u001b[0m=\u001b[3;91mFalse\u001b[0m,\n",
       "        \u001b[33mdisabled\u001b[0m=\u001b[3;91mFalse\u001b[0m,\n",
       "        \u001b[33mdownloads\u001b[0m=\u001b[1;36m10732\u001b[0m,\n",
       "        \u001b[33mdownloads_all_time\u001b[0m=\u001b[3;35mNone\u001b[0m,\n",
       "        \u001b[33mlikes\u001b[0m=\u001b[1;36m7427\u001b[0m,\n",
       "        \u001b[33mpaperswithcode_id\u001b[0m=\u001b[3;35mNone\u001b[0m,\n",
       "        \u001b[33mtags\u001b[0m=\u001b[1m[\u001b[0m\n",
       "            \u001b[32m'task_categories:question-answering'\u001b[0m,\n",
       "            \u001b[32m'license:cc0-1.0'\u001b[0m,\n",
       "            \u001b[32m'size_categories:n<1K'\u001b[0m,\n",
       "            \u001b[32m'format:csv'\u001b[0m,\n",
       "            \u001b[32m'modality:text'\u001b[0m,\n",
       "            \u001b[32m'library:datasets'\u001b[0m,\n",
       "            \u001b[32m'library:pandas'\u001b[0m,\n",
       "            \u001b[32m'library:mlcroissant'\u001b[0m,\n",
       "            \u001b[32m'library:polars'\u001b[0m,\n",
       "            \u001b[32m'region:us'\u001b[0m,\n",
       "            \u001b[32m'ChatGPT'\u001b[0m\n",
       "        \u001b[1m]\u001b[0m,\n",
       "        \u001b[33mcard_data\u001b[0m=\u001b[3;35mNone\u001b[0m,\n",
       "        \u001b[33msiblings\u001b[0m=\u001b[3;35mNone\u001b[0m\n",
       "    \u001b[1m)\u001b[0m,\n",
       "    \u001b[1;35mDatasetInfo\u001b[0m\u001b[1m(\u001b[0m\n",
       "        \u001b[33mid\u001b[0m=\u001b[32m'open-r1/OpenR1-Math-220k'\u001b[0m,\n",
       "        \u001b[33mauthor\u001b[0m=\u001b[32m'open-r1'\u001b[0m,\n",
       "        \u001b[33msha\u001b[0m=\u001b[32m'2514d018a61bd74d10026ef3bfeb4e971fae1489'\u001b[0m,\n",
       "        \u001b[33mcreated_at\u001b[0m=\u001b[1;35mdatetime\u001b[0m\u001b[1;35m.datetime\u001b[0m\u001b[1m(\u001b[0m\u001b[1;36m2025\u001b[0m, \u001b[1;36m2\u001b[0m, \u001b[1;36m10\u001b[0m, \u001b[1;36m13\u001b[0m, \u001b[1;36m41\u001b[0m, \u001b[1;36m48\u001b[0m, \u001b[33mtzinfo\u001b[0m=\u001b[35mdatetime\u001b[0m.timezone.utc\u001b[1m)\u001b[0m,\n",
       "        \u001b[33mlast_modified\u001b[0m=\u001b[1;35mdatetime\u001b[0m\u001b[1;35m.datetime\u001b[0m\u001b[1m(\u001b[0m\u001b[1;36m2025\u001b[0m, \u001b[1;36m2\u001b[0m, \u001b[1;36m10\u001b[0m, \u001b[1;36m17\u001b[0m, \u001b[1;36m4\u001b[0m, \u001b[1;36m28\u001b[0m, \u001b[33mtzinfo\u001b[0m=\u001b[35mdatetime\u001b[0m.timezone.utc\u001b[1m)\u001b[0m,\n",
       "        \u001b[33mprivate\u001b[0m=\u001b[3;91mFalse\u001b[0m,\n",
       "        \u001b[33mgated\u001b[0m=\u001b[3;91mFalse\u001b[0m,\n",
       "        \u001b[33mdisabled\u001b[0m=\u001b[3;91mFalse\u001b[0m,\n",
       "        \u001b[33mdownloads\u001b[0m=\u001b[1;36m260\u001b[0m,\n",
       "        \u001b[33mdownloads_all_time\u001b[0m=\u001b[3;35mNone\u001b[0m,\n",
       "        \u001b[33mlikes\u001b[0m=\u001b[1;36m104\u001b[0m,\n",
       "        \u001b[33mpaperswithcode_id\u001b[0m=\u001b[3;35mNone\u001b[0m,\n",
       "        \u001b[33mtags\u001b[0m=\u001b[1m[\u001b[0m\n",
       "            \u001b[32m'language:en'\u001b[0m,\n",
       "            \u001b[32m'license:apache-2.0'\u001b[0m,\n",
       "            \u001b[32m'size_categories:100K<n<1M'\u001b[0m,\n",
       "            \u001b[32m'format:parquet'\u001b[0m,\n",
       "            \u001b[32m'modality:text'\u001b[0m,\n",
       "            \u001b[32m'library:datasets'\u001b[0m,\n",
       "            \u001b[32m'library:dask'\u001b[0m,\n",
       "            \u001b[32m'library:mlcroissant'\u001b[0m,\n",
       "            \u001b[32m'library:polars'\u001b[0m,\n",
       "            \u001b[32m'region:us'\u001b[0m\n",
       "        \u001b[1m]\u001b[0m,\n",
       "        \u001b[33mcard_data\u001b[0m=\u001b[3;35mNone\u001b[0m,\n",
       "        \u001b[33msiblings\u001b[0m=\u001b[3;35mNone\u001b[0m\n",
       "    \u001b[1m)\u001b[0m,\n",
       "    \u001b[1;35mDatasetInfo\u001b[0m\u001b[1m(\u001b[0m\n",
       "        \u001b[33mid\u001b[0m=\u001b[32m'HuggingFaceFW/fineweb'\u001b[0m,\n",
       "        \u001b[33mauthor\u001b[0m=\u001b[32m'HuggingFaceFW'\u001b[0m,\n",
       "        \u001b[33msha\u001b[0m=\u001b[32m'0f039043b23fe1d4eed300b504aa4b4a68f1c7ba'\u001b[0m,\n",
       "        \u001b[33mcreated_at\u001b[0m=\u001b[1;35mdatetime\u001b[0m\u001b[1;35m.datetime\u001b[0m\u001b[1m(\u001b[0m\u001b[1;36m2024\u001b[0m, \u001b[1;36m4\u001b[0m, \u001b[1;36m18\u001b[0m, \u001b[1;36m14\u001b[0m, \u001b[1;36m33\u001b[0m, \u001b[1;36m13\u001b[0m, \u001b[33mtzinfo\u001b[0m=\u001b[35mdatetime\u001b[0m.timezone.utc\u001b[1m)\u001b[0m,\n",
       "        \u001b[33mlast_modified\u001b[0m=\u001b[1;35mdatetime\u001b[0m\u001b[1;35m.datetime\u001b[0m\u001b[1m(\u001b[0m\u001b[1;36m2025\u001b[0m, \u001b[1;36m1\u001b[0m, \u001b[1;36m31\u001b[0m, \u001b[1;36m14\u001b[0m, \u001b[1;36m10\u001b[0m, \u001b[1;36m44\u001b[0m, \u001b[33mtzinfo\u001b[0m=\u001b[35mdatetime\u001b[0m.timezone.utc\u001b[1m)\u001b[0m,\n",
       "        \u001b[33mprivate\u001b[0m=\u001b[3;91mFalse\u001b[0m,\n",
       "        \u001b[33mgated\u001b[0m=\u001b[3;91mFalse\u001b[0m,\n",
       "        \u001b[33mdisabled\u001b[0m=\u001b[3;91mFalse\u001b[0m,\n",
       "        \u001b[33mdownloads\u001b[0m=\u001b[1;36m491659\u001b[0m,\n",
       "        \u001b[33mdownloads_all_time\u001b[0m=\u001b[3;35mNone\u001b[0m,\n",
       "        \u001b[33mlikes\u001b[0m=\u001b[1;36m1919\u001b[0m,\n",
       "        \u001b[33mpaperswithcode_id\u001b[0m=\u001b[3;35mNone\u001b[0m,\n",
       "        \u001b[33mtags\u001b[0m=\u001b[1m[\u001b[0m\n",
       "            \u001b[32m'task_categories:text-generation'\u001b[0m,\n",
       "            \u001b[32m'language:en'\u001b[0m,\n",
       "            \u001b[32m'license:odc-by'\u001b[0m,\n",
       "            \u001b[32m'size_categories:10B<n<100B'\u001b[0m,\n",
       "            \u001b[32m'format:parquet'\u001b[0m,\n",
       "            \u001b[32m'modality:tabular'\u001b[0m,\n",
       "            \u001b[32m'modality:text'\u001b[0m,\n",
       "            \u001b[32m'library:datasets'\u001b[0m,\n",
       "            \u001b[32m'library:dask'\u001b[0m,\n",
       "            \u001b[32m'library:mlcroissant'\u001b[0m,\n",
       "            \u001b[32m'library:polars'\u001b[0m,\n",
       "            \u001b[32m'arxiv:2306.01116'\u001b[0m,\n",
       "            \u001b[32m'arxiv:2109.07445'\u001b[0m,\n",
       "            \u001b[32m'arxiv:2406.17557'\u001b[0m,\n",
       "            \u001b[32m'doi:10.57967/hf/2493'\u001b[0m,\n",
       "            \u001b[32m'region:us'\u001b[0m\n",
       "        \u001b[1m]\u001b[0m,\n",
       "        \u001b[33mcard_data\u001b[0m=\u001b[3;35mNone\u001b[0m,\n",
       "        \u001b[33msiblings\u001b[0m=\u001b[3;35mNone\u001b[0m\n",
       "    \u001b[1m)\u001b[0m,\n",
       "    \u001b[1;35mDatasetInfo\u001b[0m\u001b[1m(\u001b[0m\n",
       "        \u001b[33mid\u001b[0m=\u001b[32m'ServiceNow-AI/R1-Distill-SFT'\u001b[0m,\n",
       "        \u001b[33mauthor\u001b[0m=\u001b[32m'ServiceNow-AI'\u001b[0m,\n",
       "        \u001b[33msha\u001b[0m=\u001b[32m'16e851e107d928b9069dcce428a2d3d7154e5353'\u001b[0m,\n",
       "        \u001b[33mcreated_at\u001b[0m=\u001b[1;35mdatetime\u001b[0m\u001b[1;35m.datetime\u001b[0m\u001b[1m(\u001b[0m\u001b[1;36m2025\u001b[0m, \u001b[1;36m1\u001b[0m, \u001b[1;36m25\u001b[0m, \u001b[1;36m20\u001b[0m, \u001b[1;36m31\u001b[0m, \u001b[1;36m49\u001b[0m, \u001b[33mtzinfo\u001b[0m=\u001b[35mdatetime\u001b[0m.timezone.utc\u001b[1m)\u001b[0m,\n",
       "        \u001b[33mlast_modified\u001b[0m=\u001b[1;35mdatetime\u001b[0m\u001b[1;35m.datetime\u001b[0m\u001b[1m(\u001b[0m\u001b[1;36m2025\u001b[0m, \u001b[1;36m2\u001b[0m, \u001b[1;36m8\u001b[0m, \u001b[1;36m22\u001b[0m, \u001b[1;36m46\u001b[0m, \u001b[1;36m58\u001b[0m, \u001b[33mtzinfo\u001b[0m=\u001b[35mdatetime\u001b[0m.timezone.utc\u001b[1m)\u001b[0m,\n",
       "        \u001b[33mprivate\u001b[0m=\u001b[3;91mFalse\u001b[0m,\n",
       "        \u001b[33mgated\u001b[0m=\u001b[3;91mFalse\u001b[0m,\n",
       "        \u001b[33mdisabled\u001b[0m=\u001b[3;91mFalse\u001b[0m,\n",
       "        \u001b[33mdownloads\u001b[0m=\u001b[1;36m4414\u001b[0m,\n",
       "        \u001b[33mdownloads_all_time\u001b[0m=\u001b[3;35mNone\u001b[0m,\n",
       "        \u001b[33mlikes\u001b[0m=\u001b[1;36m222\u001b[0m,\n",
       "        \u001b[33mpaperswithcode_id\u001b[0m=\u001b[3;35mNone\u001b[0m,\n",
       "        \u001b[33mtags\u001b[0m=\u001b[1m[\u001b[0m\n",
       "            \u001b[32m'license:cc-by-nc-sa-4.0'\u001b[0m,\n",
       "            \u001b[32m'size_categories:1M<n<10M'\u001b[0m,\n",
       "            \u001b[32m'format:parquet'\u001b[0m,\n",
       "            \u001b[32m'modality:text'\u001b[0m,\n",
       "            \u001b[32m'library:datasets'\u001b[0m,\n",
       "            \u001b[32m'library:dask'\u001b[0m,\n",
       "            \u001b[32m'library:mlcroissant'\u001b[0m,\n",
       "            \u001b[32m'library:polars'\u001b[0m,\n",
       "            \u001b[32m'region:us'\u001b[0m\n",
       "        \u001b[1m]\u001b[0m,\n",
       "        \u001b[33mcard_data\u001b[0m=\u001b[3;35mNone\u001b[0m,\n",
       "        \u001b[33msiblings\u001b[0m=\u001b[3;35mNone\u001b[0m\n",
       "    \u001b[1m)\u001b[0m,\n",
       "    \u001b[1;35mDatasetInfo\u001b[0m\u001b[1m(\u001b[0m\n",
       "        \u001b[33mid\u001b[0m=\u001b[32m'GAIR/LIMO'\u001b[0m,\n",
       "        \u001b[33mauthor\u001b[0m=\u001b[32m'GAIR'\u001b[0m,\n",
       "        \u001b[33msha\u001b[0m=\u001b[32m'b60f4462da9d927930b9c9bd43399cf875564416'\u001b[0m,\n",
       "        \u001b[33mcreated_at\u001b[0m=\u001b[1;35mdatetime\u001b[0m\u001b[1;35m.datetime\u001b[0m\u001b[1m(\u001b[0m\u001b[1;36m2025\u001b[0m, \u001b[1;36m2\u001b[0m, \u001b[1;36m5\u001b[0m, \u001b[1;36m6\u001b[0m, \u001b[1;36m43\u001b[0m, \u001b[1;36m28\u001b[0m, \u001b[33mtzinfo\u001b[0m=\u001b[35mdatetime\u001b[0m.timezone.utc\u001b[1m)\u001b[0m,\n",
       "        \u001b[33mlast_modified\u001b[0m=\u001b[1;35mdatetime\u001b[0m\u001b[1;35m.datetime\u001b[0m\u001b[1m(\u001b[0m\u001b[1;36m2025\u001b[0m, \u001b[1;36m2\u001b[0m, \u001b[1;36m10\u001b[0m, \u001b[1;36m7\u001b[0m, \u001b[1;36m42\u001b[0m, \u001b[1;36m21\u001b[0m, \u001b[33mtzinfo\u001b[0m=\u001b[35mdatetime\u001b[0m.timezone.utc\u001b[1m)\u001b[0m,\n",
       "        \u001b[33mprivate\u001b[0m=\u001b[3;91mFalse\u001b[0m,\n",
       "        \u001b[33mgated\u001b[0m=\u001b[3;91mFalse\u001b[0m,\n",
       "        \u001b[33mdisabled\u001b[0m=\u001b[3;91mFalse\u001b[0m,\n",
       "        \u001b[33mdownloads\u001b[0m=\u001b[1;36m1560\u001b[0m,\n",
       "        \u001b[33mdownloads_all_time\u001b[0m=\u001b[3;35mNone\u001b[0m,\n",
       "        \u001b[33mlikes\u001b[0m=\u001b[1;36m75\u001b[0m,\n",
       "        \u001b[33mpaperswithcode_id\u001b[0m=\u001b[3;35mNone\u001b[0m,\n",
       "        \u001b[33mtags\u001b[0m=\u001b[1m[\u001b[0m\n",
       "            \u001b[32m'language:en'\u001b[0m,\n",
       "            \u001b[32m'license:apache-2.0'\u001b[0m,\n",
       "            \u001b[32m'size_categories:n<1K'\u001b[0m,\n",
       "            \u001b[32m'format:json'\u001b[0m,\n",
       "            \u001b[32m'modality:text'\u001b[0m,\n",
       "            \u001b[32m'library:datasets'\u001b[0m,\n",
       "            \u001b[32m'library:pandas'\u001b[0m,\n",
       "            \u001b[32m'library:mlcroissant'\u001b[0m,\n",
       "            \u001b[32m'library:polars'\u001b[0m,\n",
       "            \u001b[32m'arxiv:2502.03387'\u001b[0m,\n",
       "            \u001b[32m'region:us'\u001b[0m\n",
       "        \u001b[1m]\u001b[0m,\n",
       "        \u001b[33mcard_data\u001b[0m=\u001b[3;35mNone\u001b[0m,\n",
       "        \u001b[33msiblings\u001b[0m=\u001b[3;35mNone\u001b[0m\n",
       "    \u001b[1m)\u001b[0m,\n",
       "    \u001b[1;35mDatasetInfo\u001b[0m\u001b[1m(\u001b[0m\n",
       "        \u001b[33mid\u001b[0m=\u001b[32m'FreedomIntelligence/medical-o1-reasoning-SFT'\u001b[0m,\n",
       "        \u001b[33mauthor\u001b[0m=\u001b[32m'FreedomIntelligence'\u001b[0m,\n",
       "        \u001b[33msha\u001b[0m=\u001b[32m'4c9573e7de1e8660b88158db2efa7c7204bbd269'\u001b[0m,\n",
       "        \u001b[33mcreated_at\u001b[0m=\u001b[1;35mdatetime\u001b[0m\u001b[1;35m.datetime\u001b[0m\u001b[1m(\u001b[0m\u001b[1;36m2024\u001b[0m, \u001b[1;36m12\u001b[0m, \u001b[1;36m28\u001b[0m, \u001b[1;36m3\u001b[0m, \u001b[1;36m29\u001b[0m, \u001b[1;36m8\u001b[0m, \u001b[33mtzinfo\u001b[0m=\u001b[35mdatetime\u001b[0m.timezone.utc\u001b[1m)\u001b[0m,\n",
       "        \u001b[33mlast_modified\u001b[0m=\u001b[1;35mdatetime\u001b[0m\u001b[1;35m.datetime\u001b[0m\u001b[1m(\u001b[0m\u001b[1;36m2025\u001b[0m, \u001b[1;36m1\u001b[0m, \u001b[1;36m13\u001b[0m, \u001b[1;36m6\u001b[0m, \u001b[1;36m46\u001b[0m, \u001b[1;36m27\u001b[0m, \u001b[33mtzinfo\u001b[0m=\u001b[35mdatetime\u001b[0m.timezone.utc\u001b[1m)\u001b[0m,\n",
       "        \u001b[33mprivate\u001b[0m=\u001b[3;91mFalse\u001b[0m,\n",
       "        \u001b[33mgated\u001b[0m=\u001b[3;91mFalse\u001b[0m,\n",
       "        \u001b[33mdisabled\u001b[0m=\u001b[3;91mFalse\u001b[0m,\n",
       "        \u001b[33mdownloads\u001b[0m=\u001b[1;36m6079\u001b[0m,\n",
       "        \u001b[33mdownloads_all_time\u001b[0m=\u001b[3;35mNone\u001b[0m,\n",
       "        \u001b[33mlikes\u001b[0m=\u001b[1;36m174\u001b[0m,\n",
       "        \u001b[33mpaperswithcode_id\u001b[0m=\u001b[3;35mNone\u001b[0m,\n",
       "        \u001b[33mtags\u001b[0m=\u001b[1m[\u001b[0m\n",
       "            \u001b[32m'task_categories:question-answering'\u001b[0m,\n",
       "            \u001b[32m'task_categories:text-generation'\u001b[0m,\n",
       "            \u001b[32m'language:en'\u001b[0m,\n",
       "            \u001b[32m'language:zh'\u001b[0m,\n",
       "            \u001b[32m'license:apache-2.0'\u001b[0m,\n",
       "            \u001b[32m'size_categories:10K<n<100K'\u001b[0m,\n",
       "            \u001b[32m'format:json'\u001b[0m,\n",
       "            \u001b[32m'modality:text'\u001b[0m,\n",
       "            \u001b[32m'library:datasets'\u001b[0m,\n",
       "            \u001b[32m'library:pandas'\u001b[0m,\n",
       "            \u001b[32m'library:mlcroissant'\u001b[0m,\n",
       "            \u001b[32m'library:polars'\u001b[0m,\n",
       "            \u001b[32m'arxiv:2412.18925'\u001b[0m,\n",
       "            \u001b[32m'region:us'\u001b[0m,\n",
       "            \u001b[32m'medical'\u001b[0m,\n",
       "            \u001b[32m'biology'\u001b[0m\n",
       "        \u001b[1m]\u001b[0m,\n",
       "        \u001b[33mcard_data\u001b[0m=\u001b[3;35mNone\u001b[0m,\n",
       "        \u001b[33msiblings\u001b[0m=\u001b[3;35mNone\u001b[0m\n",
       "    \u001b[1m)\u001b[0m,\n",
       "    \u001b[1;35mDatasetInfo\u001b[0m\u001b[1m(\u001b[0m\n",
       "        \u001b[33mid\u001b[0m=\u001b[32m'cognitivecomputations/dolphin-r1'\u001b[0m,\n",
       "        \u001b[33mauthor\u001b[0m=\u001b[32m'cognitivecomputations'\u001b[0m,\n",
       "        \u001b[33msha\u001b[0m=\u001b[32m'f6ac651b3911352ce9bc6d3340c98a66007feb88'\u001b[0m,\n",
       "        \u001b[33mcreated_at\u001b[0m=\u001b[1;35mdatetime\u001b[0m\u001b[1;35m.datetime\u001b[0m\u001b[1m(\u001b[0m\u001b[1;36m2025\u001b[0m, \u001b[1;36m1\u001b[0m, \u001b[1;36m30\u001b[0m, \u001b[1;36m2\u001b[0m, \u001b[1;36m44\u001b[0m, \u001b[1;36m13\u001b[0m, \u001b[33mtzinfo\u001b[0m=\u001b[35mdatetime\u001b[0m.timezone.utc\u001b[1m)\u001b[0m,\n",
       "        \u001b[33mlast_modified\u001b[0m=\u001b[1;35mdatetime\u001b[0m\u001b[1;35m.datetime\u001b[0m\u001b[1m(\u001b[0m\u001b[1;36m2025\u001b[0m, \u001b[1;36m1\u001b[0m, \u001b[1;36m30\u001b[0m, \u001b[1;36m18\u001b[0m, \u001b[1;36m51\u001b[0m, \u001b[1;36m36\u001b[0m, \u001b[33mtzinfo\u001b[0m=\u001b[35mdatetime\u001b[0m.timezone.utc\u001b[1m)\u001b[0m,\n",
       "        \u001b[33mprivate\u001b[0m=\u001b[3;91mFalse\u001b[0m,\n",
       "        \u001b[33mgated\u001b[0m=\u001b[3;91mFalse\u001b[0m,\n",
       "        \u001b[33mdisabled\u001b[0m=\u001b[3;91mFalse\u001b[0m,\n",
       "        \u001b[33mdownloads\u001b[0m=\u001b[1;36m3519\u001b[0m,\n",
       "        \u001b[33mdownloads_all_time\u001b[0m=\u001b[3;35mNone\u001b[0m,\n",
       "        \u001b[33mlikes\u001b[0m=\u001b[1;36m226\u001b[0m,\n",
       "        \u001b[33mpaperswithcode_id\u001b[0m=\u001b[3;35mNone\u001b[0m,\n",
       "        \u001b[33mtags\u001b[0m=\u001b[1m[\u001b[0m\n",
       "            \u001b[32m'license:apache-2.0'\u001b[0m,\n",
       "            \u001b[32m'size_categories:100K<n<1M'\u001b[0m,\n",
       "            \u001b[32m'format:json'\u001b[0m,\n",
       "            \u001b[32m'modality:tabular'\u001b[0m,\n",
       "            \u001b[32m'modality:text'\u001b[0m,\n",
       "            \u001b[32m'library:datasets'\u001b[0m,\n",
       "            \u001b[32m'library:pandas'\u001b[0m,\n",
       "            \u001b[32m'library:mlcroissant'\u001b[0m,\n",
       "            \u001b[32m'library:polars'\u001b[0m,\n",
       "            \u001b[32m'region:us'\u001b[0m\n",
       "        \u001b[1m]\u001b[0m,\n",
       "        \u001b[33mcard_data\u001b[0m=\u001b[3;35mNone\u001b[0m,\n",
       "        \u001b[33msiblings\u001b[0m=\u001b[3;35mNone\u001b[0m\n",
       "    \u001b[1m)\u001b[0m,\n",
       "    \u001b[1;35mDatasetInfo\u001b[0m\u001b[1m(\u001b[0m\n",
       "        \u001b[33mid\u001b[0m=\u001b[32m'saiyan-world/Goku-MovieGenBench'\u001b[0m,\n",
       "        \u001b[33mauthor\u001b[0m=\u001b[32m'saiyan-world'\u001b[0m,\n",
       "        \u001b[33msha\u001b[0m=\u001b[32m'fd41363957a6bf5370e573e422fc89e4ec450218'\u001b[0m,\n",
       "        \u001b[33mcreated_at\u001b[0m=\u001b[1;35mdatetime\u001b[0m\u001b[1;35m.datetime\u001b[0m\u001b[1m(\u001b[0m\u001b[1;36m2025\u001b[0m, \u001b[1;36m2\u001b[0m, \u001b[1;36m6\u001b[0m, \u001b[1;36m12\u001b[0m, \u001b[1;36m47\u001b[0m, \u001b[1;36m26\u001b[0m, \u001b[33mtzinfo\u001b[0m=\u001b[35mdatetime\u001b[0m.timezone.utc\u001b[1m)\u001b[0m,\n",
       "        \u001b[33mlast_modified\u001b[0m=\u001b[1;35mdatetime\u001b[0m\u001b[1;35m.datetime\u001b[0m\u001b[1m(\u001b[0m\u001b[1;36m2025\u001b[0m, \u001b[1;36m2\u001b[0m, \u001b[1;36m11\u001b[0m, \u001b[1;36m3\u001b[0m, \u001b[1;36m18\u001b[0m, \u001b[1;36m5\u001b[0m, \u001b[33mtzinfo\u001b[0m=\u001b[35mdatetime\u001b[0m.timezone.utc\u001b[1m)\u001b[0m,\n",
       "        \u001b[33mprivate\u001b[0m=\u001b[3;91mFalse\u001b[0m,\n",
       "        \u001b[33mgated\u001b[0m=\u001b[3;91mFalse\u001b[0m,\n",
       "        \u001b[33mdisabled\u001b[0m=\u001b[3;91mFalse\u001b[0m,\n",
       "        \u001b[33mdownloads\u001b[0m=\u001b[1;36m8696\u001b[0m,\n",
       "        \u001b[33mdownloads_all_time\u001b[0m=\u001b[3;35mNone\u001b[0m,\n",
       "        \u001b[33mlikes\u001b[0m=\u001b[1;36m59\u001b[0m,\n",
       "        \u001b[33mpaperswithcode_id\u001b[0m=\u001b[3;35mNone\u001b[0m,\n",
       "        \u001b[33mtags\u001b[0m=\u001b[1m[\u001b[0m\n",
       "            \u001b[32m'task_categories:text-to-video'\u001b[0m,\n",
       "            \u001b[32m'size_categories:1K<n<10K'\u001b[0m,\n",
       "            \u001b[32m'modality:video'\u001b[0m,\n",
       "            \u001b[32m'library:datasets'\u001b[0m,\n",
       "            \u001b[32m'library:mlcroissant'\u001b[0m,\n",
       "            \u001b[32m'arxiv:2502.04896'\u001b[0m,\n",
       "            \u001b[32m'region:us'\u001b[0m\n",
       "        \u001b[1m]\u001b[0m,\n",
       "        \u001b[33mcard_data\u001b[0m=\u001b[3;35mNone\u001b[0m,\n",
       "        \u001b[33msiblings\u001b[0m=\u001b[3;35mNone\u001b[0m\n",
       "    \u001b[1m)\u001b[0m\n",
       "\u001b[1m]\u001b[0m\n"
      ]
     },
     "metadata": {},
     "output_type": "display_data"
    }
   ],
   "source": [
    "from rich import print\n",
    "from pprint import pprint\n",
    "\n",
    "\n",
    "from huggingface_hub import list_datasets\n",
    "\n",
    "# Fetch only the first 10 datasets\n",
    "datasets_gen = list_datasets()\n",
    "limited_datasets = [next(datasets_gen) for _ in range(10)]\n",
    "\n",
    "print(limited_datasets)"
   ]
  },
  {
   "cell_type": "code",
   "execution_count": 34,
   "metadata": {},
   "outputs": [],
   "source": [
    "from datasets import load_dataset\n",
    "\n",
    "emotions = load_dataset(\"emotion\")"
   ]
  },
  {
   "cell_type": "code",
   "execution_count": 35,
   "metadata": {},
   "outputs": [
    {
     "data": {
      "text/plain": [
       "DatasetDict({\n",
       "    train: Dataset({\n",
       "        features: ['text', 'label'],\n",
       "        num_rows: 16000\n",
       "    })\n",
       "    validation: Dataset({\n",
       "        features: ['text', 'label'],\n",
       "        num_rows: 2000\n",
       "    })\n",
       "    test: Dataset({\n",
       "        features: ['text', 'label'],\n",
       "        num_rows: 2000\n",
       "    })\n",
       "})"
      ]
     },
     "execution_count": 35,
     "metadata": {},
     "output_type": "execute_result"
    }
   ],
   "source": [
    "emotions"
   ]
  },
  {
   "cell_type": "code",
   "execution_count": 36,
   "metadata": {},
   "outputs": [
    {
     "data": {
      "text/html": [
       "<pre style=\"white-space:pre;overflow-x:auto;line-height:normal;font-family:Menlo,'DejaVu Sans Mono',consolas,'Courier New',monospace\"><span style=\"color: #800080; text-decoration-color: #800080; font-weight: bold\">DatasetDict</span><span style=\"font-weight: bold\">({</span>\n",
       "    train: <span style=\"color: #800080; text-decoration-color: #800080; font-weight: bold\">Dataset</span><span style=\"font-weight: bold\">({</span>\n",
       "        features: <span style=\"font-weight: bold\">[</span><span style=\"color: #008000; text-decoration-color: #008000\">'text'</span>, <span style=\"color: #008000; text-decoration-color: #008000\">'label'</span><span style=\"font-weight: bold\">]</span>,\n",
       "        num_rows: <span style=\"color: #008080; text-decoration-color: #008080; font-weight: bold\">16000</span>\n",
       "    <span style=\"font-weight: bold\">})</span>\n",
       "    validation: <span style=\"color: #800080; text-decoration-color: #800080; font-weight: bold\">Dataset</span><span style=\"font-weight: bold\">({</span>\n",
       "        features: <span style=\"font-weight: bold\">[</span><span style=\"color: #008000; text-decoration-color: #008000\">'text'</span>, <span style=\"color: #008000; text-decoration-color: #008000\">'label'</span><span style=\"font-weight: bold\">]</span>,\n",
       "        num_rows: <span style=\"color: #008080; text-decoration-color: #008080; font-weight: bold\">2000</span>\n",
       "    <span style=\"font-weight: bold\">})</span>\n",
       "    test: <span style=\"color: #800080; text-decoration-color: #800080; font-weight: bold\">Dataset</span><span style=\"font-weight: bold\">({</span>\n",
       "        features: <span style=\"font-weight: bold\">[</span><span style=\"color: #008000; text-decoration-color: #008000\">'text'</span>, <span style=\"color: #008000; text-decoration-color: #008000\">'label'</span><span style=\"font-weight: bold\">]</span>,\n",
       "        num_rows: <span style=\"color: #008080; text-decoration-color: #008080; font-weight: bold\">2000</span>\n",
       "    <span style=\"font-weight: bold\">})</span>\n",
       "<span style=\"font-weight: bold\">})</span>\n",
       "</pre>\n"
      ],
      "text/plain": [
       "\u001b[1;35mDatasetDict\u001b[0m\u001b[1m(\u001b[0m\u001b[1m{\u001b[0m\n",
       "    train: \u001b[1;35mDataset\u001b[0m\u001b[1m(\u001b[0m\u001b[1m{\u001b[0m\n",
       "        features: \u001b[1m[\u001b[0m\u001b[32m'text'\u001b[0m, \u001b[32m'label'\u001b[0m\u001b[1m]\u001b[0m,\n",
       "        num_rows: \u001b[1;36m16000\u001b[0m\n",
       "    \u001b[1m}\u001b[0m\u001b[1m)\u001b[0m\n",
       "    validation: \u001b[1;35mDataset\u001b[0m\u001b[1m(\u001b[0m\u001b[1m{\u001b[0m\n",
       "        features: \u001b[1m[\u001b[0m\u001b[32m'text'\u001b[0m, \u001b[32m'label'\u001b[0m\u001b[1m]\u001b[0m,\n",
       "        num_rows: \u001b[1;36m2000\u001b[0m\n",
       "    \u001b[1m}\u001b[0m\u001b[1m)\u001b[0m\n",
       "    test: \u001b[1;35mDataset\u001b[0m\u001b[1m(\u001b[0m\u001b[1m{\u001b[0m\n",
       "        features: \u001b[1m[\u001b[0m\u001b[32m'text'\u001b[0m, \u001b[32m'label'\u001b[0m\u001b[1m]\u001b[0m,\n",
       "        num_rows: \u001b[1;36m2000\u001b[0m\n",
       "    \u001b[1m}\u001b[0m\u001b[1m)\u001b[0m\n",
       "\u001b[1m}\u001b[0m\u001b[1m)\u001b[0m\n"
      ]
     },
     "metadata": {},
     "output_type": "display_data"
    }
   ],
   "source": [
    "print(str(emotions))"
   ]
  },
  {
   "cell_type": "code",
   "execution_count": 37,
   "metadata": {},
   "outputs": [
    {
     "name": "stdout",
     "output_type": "stream",
     "text": [
      "DatasetDict({\n",
      "    train: Dataset({\n",
      "        features: ['text', 'label'],\n",
      "        num_rows: 16000\n",
      "    })\n",
      "    validation: Dataset({\n",
      "        features: ['text', 'label'],\n",
      "        num_rows: 2000\n",
      "    })\n",
      "    test: Dataset({\n",
      "        features: ['text', 'label'],\n",
      "        num_rows: 2000\n",
      "    })\n",
      "})\n"
     ]
    }
   ],
   "source": [
    "\n",
    "pprint(emotions)\n"
   ]
  },
  {
   "cell_type": "code",
   "execution_count": 38,
   "metadata": {},
   "outputs": [],
   "source": [
    "train_ds = emotions[\"train\"]"
   ]
  },
  {
   "cell_type": "code",
   "execution_count": 39,
   "metadata": {},
   "outputs": [
    {
     "data": {
      "text/plain": [
       "Dataset({\n",
       "    features: ['text', 'label'],\n",
       "    num_rows: 16000\n",
       "})"
      ]
     },
     "execution_count": 39,
     "metadata": {},
     "output_type": "execute_result"
    }
   ],
   "source": [
    "train_ds"
   ]
  },
  {
   "cell_type": "code",
   "execution_count": 40,
   "metadata": {},
   "outputs": [
    {
     "data": {
      "text/plain": [
       "16000"
      ]
     },
     "execution_count": 40,
     "metadata": {},
     "output_type": "execute_result"
    }
   ],
   "source": [
    "len(train_ds)"
   ]
  },
  {
   "cell_type": "code",
   "execution_count": 41,
   "metadata": {},
   "outputs": [
    {
     "data": {
      "text/plain": [
       "{'text': 'i didnt feel humiliated', 'label': 0}"
      ]
     },
     "execution_count": 41,
     "metadata": {},
     "output_type": "execute_result"
    }
   ],
   "source": [
    "train_ds[0]"
   ]
  },
  {
   "cell_type": "code",
   "execution_count": 42,
   "metadata": {},
   "outputs": [
    {
     "data": {
      "text/plain": [
       "['text', 'label']"
      ]
     },
     "execution_count": 42,
     "metadata": {},
     "output_type": "execute_result"
    }
   ],
   "source": [
    "train_ds.column_names"
   ]
  },
  {
   "cell_type": "code",
   "execution_count": 43,
   "metadata": {},
   "outputs": [
    {
     "data": {
      "text/plain": [
       "''"
      ]
     },
     "execution_count": 43,
     "metadata": {},
     "output_type": "execute_result"
    }
   ],
   "source": [
    "train_ds.license"
   ]
  },
  {
   "cell_type": "code",
   "execution_count": 44,
   "metadata": {},
   "outputs": [
    {
     "data": {
      "text/plain": [
       "{'text': Value(dtype='string', id=None),\n",
       " 'label': ClassLabel(names=['sadness', 'joy', 'love', 'anger', 'fear', 'surprise'], id=None)}"
      ]
     },
     "execution_count": 44,
     "metadata": {},
     "output_type": "execute_result"
    }
   ],
   "source": [
    "train_ds.features"
   ]
  },
  {
   "cell_type": "code",
   "execution_count": 47,
   "metadata": {},
   "outputs": [
    {
     "data": {
      "text/html": [
       "<pre style=\"white-space:pre;overflow-x:auto;line-height:normal;font-family:Menlo,'DejaVu Sans Mono',consolas,'Courier New',monospace\"><span style=\"font-weight: bold\">{</span>\n",
       "    <span style=\"color: #008000; text-decoration-color: #008000\">'text'</span>: <span style=\"font-weight: bold\">[</span>\n",
       "        <span style=\"color: #008000; text-decoration-color: #008000\">'i didnt feel humiliated'</span>,\n",
       "        <span style=\"color: #008000; text-decoration-color: #008000\">'i can go from feeling so hopeless to so damned hopeful just from being around someone who cares and is </span>\n",
       "<span style=\"color: #008000; text-decoration-color: #008000\">awake'</span>,\n",
       "        <span style=\"color: #008000; text-decoration-color: #008000\">'im grabbing a minute to post i feel greedy wrong'</span>,\n",
       "        <span style=\"color: #008000; text-decoration-color: #008000\">'i am ever feeling nostalgic about the fireplace i will know that it is still on the property'</span>,\n",
       "        <span style=\"color: #008000; text-decoration-color: #008000\">'i am feeling grouchy'</span>\n",
       "    <span style=\"font-weight: bold\">]</span>,\n",
       "    <span style=\"color: #008000; text-decoration-color: #008000\">'label'</span>: <span style=\"font-weight: bold\">[</span><span style=\"color: #008080; text-decoration-color: #008080; font-weight: bold\">0</span>, <span style=\"color: #008080; text-decoration-color: #008080; font-weight: bold\">0</span>, <span style=\"color: #008080; text-decoration-color: #008080; font-weight: bold\">3</span>, <span style=\"color: #008080; text-decoration-color: #008080; font-weight: bold\">2</span>, <span style=\"color: #008080; text-decoration-color: #008080; font-weight: bold\">3</span><span style=\"font-weight: bold\">]</span>\n",
       "<span style=\"font-weight: bold\">}</span>\n",
       "</pre>\n"
      ],
      "text/plain": [
       "\u001b[1m{\u001b[0m\n",
       "    \u001b[32m'text'\u001b[0m: \u001b[1m[\u001b[0m\n",
       "        \u001b[32m'i didnt feel humiliated'\u001b[0m,\n",
       "        \u001b[32m'i can go from feeling so hopeless to so damned hopeful just from being around someone who cares and is \u001b[0m\n",
       "\u001b[32mawake'\u001b[0m,\n",
       "        \u001b[32m'im grabbing a minute to post i feel greedy wrong'\u001b[0m,\n",
       "        \u001b[32m'i am ever feeling nostalgic about the fireplace i will know that it is still on the property'\u001b[0m,\n",
       "        \u001b[32m'i am feeling grouchy'\u001b[0m\n",
       "    \u001b[1m]\u001b[0m,\n",
       "    \u001b[32m'label'\u001b[0m: \u001b[1m[\u001b[0m\u001b[1;36m0\u001b[0m, \u001b[1;36m0\u001b[0m, \u001b[1;36m3\u001b[0m, \u001b[1;36m2\u001b[0m, \u001b[1;36m3\u001b[0m\u001b[1m]\u001b[0m\n",
       "\u001b[1m}\u001b[0m\n"
      ]
     },
     "metadata": {},
     "output_type": "display_data"
    }
   ],
   "source": [
    "print(train_ds[:5])"
   ]
  },
  {
   "cell_type": "code",
   "execution_count": 48,
   "metadata": {},
   "outputs": [
    {
     "data": {
      "text/html": [
       "<pre style=\"white-space:pre;overflow-x:auto;line-height:normal;font-family:Menlo,'DejaVu Sans Mono',consolas,'Courier New',monospace\"><span style=\"font-weight: bold\">[</span>\n",
       "    <span style=\"color: #008000; text-decoration-color: #008000\">'i didnt feel humiliated'</span>,\n",
       "    <span style=\"color: #008000; text-decoration-color: #008000\">'i can go from feeling so hopeless to so damned hopeful just from being around someone who cares and is awake'</span>,\n",
       "    <span style=\"color: #008000; text-decoration-color: #008000\">'im grabbing a minute to post i feel greedy wrong'</span>,\n",
       "    <span style=\"color: #008000; text-decoration-color: #008000\">'i am ever feeling nostalgic about the fireplace i will know that it is still on the property'</span>,\n",
       "    <span style=\"color: #008000; text-decoration-color: #008000\">'i am feeling grouchy'</span>\n",
       "<span style=\"font-weight: bold\">]</span>\n",
       "</pre>\n"
      ],
      "text/plain": [
       "\u001b[1m[\u001b[0m\n",
       "    \u001b[32m'i didnt feel humiliated'\u001b[0m,\n",
       "    \u001b[32m'i can go from feeling so hopeless to so damned hopeful just from being around someone who cares and is awake'\u001b[0m,\n",
       "    \u001b[32m'im grabbing a minute to post i feel greedy wrong'\u001b[0m,\n",
       "    \u001b[32m'i am ever feeling nostalgic about the fireplace i will know that it is still on the property'\u001b[0m,\n",
       "    \u001b[32m'i am feeling grouchy'\u001b[0m\n",
       "\u001b[1m]\u001b[0m\n"
      ]
     },
     "metadata": {},
     "output_type": "display_data"
    }
   ],
   "source": [
    "print(train_ds[\"text\"][:5])"
   ]
  },
  {
   "cell_type": "code",
   "execution_count": 51,
   "metadata": {},
   "outputs": [],
   "source": [
    "import pandas as pd"
   ]
  },
  {
   "cell_type": "code",
   "execution_count": 52,
   "metadata": {},
   "outputs": [],
   "source": [
    "emotions.set_format(type=\"pandas\")"
   ]
  },
  {
   "cell_type": "code",
   "execution_count": 55,
   "metadata": {},
   "outputs": [
    {
     "data": {
      "application/vnd.microsoft.datawrangler.viewer.v0+json": {
       "columns": [
        {
         "name": "index",
         "rawType": "int64",
         "type": "integer"
        },
        {
         "name": "text",
         "rawType": "object",
         "type": "string"
        },
        {
         "name": "label",
         "rawType": "int64",
         "type": "integer"
        }
       ],
       "conversionMethod": "pd.DataFrame",
       "ref": "db271e4b-0343-499d-b4b1-78385948ceee",
       "rows": [
        [
         "0",
         "i didnt feel humiliated",
         "0"
        ],
        [
         "1",
         "i can go from feeling so hopeless to so damned hopeful just from being around someone who cares and is awake",
         "0"
        ],
        [
         "2",
         "im grabbing a minute to post i feel greedy wrong",
         "3"
        ],
        [
         "3",
         "i am ever feeling nostalgic about the fireplace i will know that it is still on the property",
         "2"
        ],
        [
         "4",
         "i am feeling grouchy",
         "3"
        ]
       ],
       "shape": {
        "columns": 2,
        "rows": 5
       }
      },
      "text/html": [
       "<div>\n",
       "<style scoped>\n",
       "    .dataframe tbody tr th:only-of-type {\n",
       "        vertical-align: middle;\n",
       "    }\n",
       "\n",
       "    .dataframe tbody tr th {\n",
       "        vertical-align: top;\n",
       "    }\n",
       "\n",
       "    .dataframe thead th {\n",
       "        text-align: right;\n",
       "    }\n",
       "</style>\n",
       "<table border=\"1\" class=\"dataframe\">\n",
       "  <thead>\n",
       "    <tr style=\"text-align: right;\">\n",
       "      <th></th>\n",
       "      <th>text</th>\n",
       "      <th>label</th>\n",
       "    </tr>\n",
       "  </thead>\n",
       "  <tbody>\n",
       "    <tr>\n",
       "      <th>0</th>\n",
       "      <td>i didnt feel humiliated</td>\n",
       "      <td>0</td>\n",
       "    </tr>\n",
       "    <tr>\n",
       "      <th>1</th>\n",
       "      <td>i can go from feeling so hopeless to so damned...</td>\n",
       "      <td>0</td>\n",
       "    </tr>\n",
       "    <tr>\n",
       "      <th>2</th>\n",
       "      <td>im grabbing a minute to post i feel greedy wrong</td>\n",
       "      <td>3</td>\n",
       "    </tr>\n",
       "    <tr>\n",
       "      <th>3</th>\n",
       "      <td>i am ever feeling nostalgic about the fireplac...</td>\n",
       "      <td>2</td>\n",
       "    </tr>\n",
       "    <tr>\n",
       "      <th>4</th>\n",
       "      <td>i am feeling grouchy</td>\n",
       "      <td>3</td>\n",
       "    </tr>\n",
       "  </tbody>\n",
       "</table>\n",
       "</div>"
      ],
      "text/plain": [
       "                                                text  label\n",
       "0                            i didnt feel humiliated      0\n",
       "1  i can go from feeling so hopeless to so damned...      0\n",
       "2   im grabbing a minute to post i feel greedy wrong      3\n",
       "3  i am ever feeling nostalgic about the fireplac...      2\n",
       "4                               i am feeling grouchy      3"
      ]
     },
     "execution_count": 55,
     "metadata": {},
     "output_type": "execute_result"
    }
   ],
   "source": [
    "df = emotions[\"train\"][:]\n",
    "df.head()"
   ]
  },
  {
   "cell_type": "code",
   "execution_count": 57,
   "metadata": {},
   "outputs": [
    {
     "data": {
      "text/plain": [
       "ClassLabel(names=['sadness', 'joy', 'love', 'anger', 'fear', 'surprise'], id=None)"
      ]
     },
     "execution_count": 57,
     "metadata": {},
     "output_type": "execute_result"
    }
   ],
   "source": [
    "emotions[\"train\"].features[\"label\"]"
   ]
  },
  {
   "cell_type": "code",
   "execution_count": 58,
   "metadata": {},
   "outputs": [
    {
     "data": {
      "text/plain": [
       "'sadness'"
      ]
     },
     "execution_count": 58,
     "metadata": {},
     "output_type": "execute_result"
    }
   ],
   "source": [
    "emotions[\"train\"].features[\"label\"].int2str(0)"
   ]
  },
  {
   "cell_type": "code",
   "execution_count": 73,
   "metadata": {},
   "outputs": [],
   "source": [
    "def label_int2str(row):\n",
    "    return emotions[\"train\"].features[\"label\"].int2str(row)"
   ]
  },
  {
   "cell_type": "code",
   "execution_count": 74,
   "metadata": {},
   "outputs": [],
   "source": [
    "df[\"label_name\"] = df[\"label\"].apply(lambda row: emotions[\"train\"].features[\"label\"].int2str(row))"
   ]
  },
  {
   "cell_type": "code",
   "execution_count": 76,
   "metadata": {},
   "outputs": [
    {
     "data": {
      "application/vnd.microsoft.datawrangler.viewer.v0+json": {
       "columns": [
        {
         "name": "index",
         "rawType": "int64",
         "type": "integer"
        },
        {
         "name": "text",
         "rawType": "object",
         "type": "string"
        },
        {
         "name": "label",
         "rawType": "int64",
         "type": "integer"
        },
        {
         "name": "label_name",
         "rawType": "object",
         "type": "string"
        }
       ],
       "conversionMethod": "pd.DataFrame",
       "ref": "d1509e8f-7e8d-4c3e-b80c-71a03c674c05",
       "rows": [
        [
         "0",
         "i didnt feel humiliated",
         "0",
         "sadness"
        ],
        [
         "1",
         "i can go from feeling so hopeless to so damned hopeful just from being around someone who cares and is awake",
         "0",
         "sadness"
        ],
        [
         "2",
         "im grabbing a minute to post i feel greedy wrong",
         "3",
         "anger"
        ],
        [
         "3",
         "i am ever feeling nostalgic about the fireplace i will know that it is still on the property",
         "2",
         "love"
        ],
        [
         "4",
         "i am feeling grouchy",
         "3",
         "anger"
        ]
       ],
       "shape": {
        "columns": 3,
        "rows": 5
       }
      },
      "text/html": [
       "<div>\n",
       "<style scoped>\n",
       "    .dataframe tbody tr th:only-of-type {\n",
       "        vertical-align: middle;\n",
       "    }\n",
       "\n",
       "    .dataframe tbody tr th {\n",
       "        vertical-align: top;\n",
       "    }\n",
       "\n",
       "    .dataframe thead th {\n",
       "        text-align: right;\n",
       "    }\n",
       "</style>\n",
       "<table border=\"1\" class=\"dataframe\">\n",
       "  <thead>\n",
       "    <tr style=\"text-align: right;\">\n",
       "      <th></th>\n",
       "      <th>text</th>\n",
       "      <th>label</th>\n",
       "      <th>label_name</th>\n",
       "    </tr>\n",
       "  </thead>\n",
       "  <tbody>\n",
       "    <tr>\n",
       "      <th>0</th>\n",
       "      <td>i didnt feel humiliated</td>\n",
       "      <td>0</td>\n",
       "      <td>sadness</td>\n",
       "    </tr>\n",
       "    <tr>\n",
       "      <th>1</th>\n",
       "      <td>i can go from feeling so hopeless to so damned...</td>\n",
       "      <td>0</td>\n",
       "      <td>sadness</td>\n",
       "    </tr>\n",
       "    <tr>\n",
       "      <th>2</th>\n",
       "      <td>im grabbing a minute to post i feel greedy wrong</td>\n",
       "      <td>3</td>\n",
       "      <td>anger</td>\n",
       "    </tr>\n",
       "    <tr>\n",
       "      <th>3</th>\n",
       "      <td>i am ever feeling nostalgic about the fireplac...</td>\n",
       "      <td>2</td>\n",
       "      <td>love</td>\n",
       "    </tr>\n",
       "    <tr>\n",
       "      <th>4</th>\n",
       "      <td>i am feeling grouchy</td>\n",
       "      <td>3</td>\n",
       "      <td>anger</td>\n",
       "    </tr>\n",
       "  </tbody>\n",
       "</table>\n",
       "</div>"
      ],
      "text/plain": [
       "                                                text  label label_name\n",
       "0                            i didnt feel humiliated      0    sadness\n",
       "1  i can go from feeling so hopeless to so damned...      0    sadness\n",
       "2   im grabbing a minute to post i feel greedy wrong      3      anger\n",
       "3  i am ever feeling nostalgic about the fireplac...      2       love\n",
       "4                               i am feeling grouchy      3      anger"
      ]
     },
     "execution_count": 76,
     "metadata": {},
     "output_type": "execute_result"
    }
   ],
   "source": [
    "df.head()"
   ]
  },
  {
   "cell_type": "code",
   "execution_count": 80,
   "metadata": {},
   "outputs": [
    {
     "data": {
      "text/html": [
       "<pre style=\"white-space:pre;overflow-x:auto;line-height:normal;font-family:Menlo,'DejaVu Sans Mono',consolas,'Courier New',monospace\"><span style=\"font-weight: bold\">(</span><span style=\"color: #008080; text-decoration-color: #008080; font-weight: bold\">16000</span>, <span style=\"color: #008080; text-decoration-color: #008080; font-weight: bold\">3</span><span style=\"font-weight: bold\">)</span>\n",
       "</pre>\n"
      ],
      "text/plain": [
       "\u001b[1m(\u001b[0m\u001b[1;36m16000\u001b[0m, \u001b[1;36m3\u001b[0m\u001b[1m)\u001b[0m\n"
      ]
     },
     "metadata": {},
     "output_type": "display_data"
    },
    {
     "name": "stdout",
     "output_type": "stream",
     "text": [
      "<bound method DataFrame.info of                                                     text  label label_name\n",
      "0                                i didnt feel humiliated      0    sadness\n",
      "1      i can go from feeling so hopeless to so damned...      0    sadness\n",
      "2       im grabbing a minute to post i feel greedy wrong      3      anger\n",
      "3      i am ever feeling nostalgic about the fireplac...      2       love\n",
      "4                                   i am feeling grouchy      3      anger\n",
      "...                                                  ...    ...        ...\n",
      "15995  i just had a very brief time in the beanbag an...      0    sadness\n",
      "15996  i am now turning and i feel pathetic that i am...      0    sadness\n",
      "15997                     i feel strong and good overall      1        joy\n",
      "15998  i feel like this was such a rude comment and i...      3      anger\n",
      "15999  i know a lot but i feel so stupid because i ca...      0    sadness\n",
      "\n",
      "[16000 rows x 3 columns]>\n"
     ]
    },
    {
     "data": {
      "application/vnd.microsoft.datawrangler.viewer.v0+json": {
       "columns": [
        {
         "name": "index",
         "rawType": "int64",
         "type": "integer"
        },
        {
         "name": "text",
         "rawType": "object",
         "type": "string"
        },
        {
         "name": "label",
         "rawType": "int64",
         "type": "integer"
        },
        {
         "name": "label_name",
         "rawType": "object",
         "type": "string"
        }
       ],
       "conversionMethod": "pd.DataFrame",
       "ref": "3f63e1b6-856c-483c-8c17-33ac7d9c09fd",
       "rows": [
        [
         "0",
         "i didnt feel humiliated",
         "0",
         "sadness"
        ],
        [
         "1",
         "i can go from feeling so hopeless to so damned hopeful just from being around someone who cares and is awake",
         "0",
         "sadness"
        ],
        [
         "2",
         "im grabbing a minute to post i feel greedy wrong",
         "3",
         "anger"
        ],
        [
         "3",
         "i am ever feeling nostalgic about the fireplace i will know that it is still on the property",
         "2",
         "love"
        ],
        [
         "4",
         "i am feeling grouchy",
         "3",
         "anger"
        ]
       ],
       "shape": {
        "columns": 3,
        "rows": 5
       }
      },
      "text/html": [
       "<div>\n",
       "<style scoped>\n",
       "    .dataframe tbody tr th:only-of-type {\n",
       "        vertical-align: middle;\n",
       "    }\n",
       "\n",
       "    .dataframe tbody tr th {\n",
       "        vertical-align: top;\n",
       "    }\n",
       "\n",
       "    .dataframe thead th {\n",
       "        text-align: right;\n",
       "    }\n",
       "</style>\n",
       "<table border=\"1\" class=\"dataframe\">\n",
       "  <thead>\n",
       "    <tr style=\"text-align: right;\">\n",
       "      <th></th>\n",
       "      <th>text</th>\n",
       "      <th>label</th>\n",
       "      <th>label_name</th>\n",
       "    </tr>\n",
       "  </thead>\n",
       "  <tbody>\n",
       "    <tr>\n",
       "      <th>0</th>\n",
       "      <td>i didnt feel humiliated</td>\n",
       "      <td>0</td>\n",
       "      <td>sadness</td>\n",
       "    </tr>\n",
       "    <tr>\n",
       "      <th>1</th>\n",
       "      <td>i can go from feeling so hopeless to so damned...</td>\n",
       "      <td>0</td>\n",
       "      <td>sadness</td>\n",
       "    </tr>\n",
       "    <tr>\n",
       "      <th>2</th>\n",
       "      <td>im grabbing a minute to post i feel greedy wrong</td>\n",
       "      <td>3</td>\n",
       "      <td>anger</td>\n",
       "    </tr>\n",
       "    <tr>\n",
       "      <th>3</th>\n",
       "      <td>i am ever feeling nostalgic about the fireplac...</td>\n",
       "      <td>2</td>\n",
       "      <td>love</td>\n",
       "    </tr>\n",
       "    <tr>\n",
       "      <th>4</th>\n",
       "      <td>i am feeling grouchy</td>\n",
       "      <td>3</td>\n",
       "      <td>anger</td>\n",
       "    </tr>\n",
       "  </tbody>\n",
       "</table>\n",
       "</div>"
      ],
      "text/plain": [
       "                                                text  label label_name\n",
       "0                            i didnt feel humiliated      0    sadness\n",
       "1  i can go from feeling so hopeless to so damned...      0    sadness\n",
       "2   im grabbing a minute to post i feel greedy wrong      3      anger\n",
       "3  i am ever feeling nostalgic about the fireplac...      2       love\n",
       "4                               i am feeling grouchy      3      anger"
      ]
     },
     "execution_count": 80,
     "metadata": {},
     "output_type": "execute_result"
    }
   ],
   "source": [
    "print(df.shape)\n",
    "pprint(df.info)\n",
    "df.head()"
   ]
  },
  {
   "cell_type": "code",
   "execution_count": 81,
   "metadata": {},
   "outputs": [],
   "source": [
    "import matplotlib.pyplot as plt\n",
    "\n"
   ]
  },
  {
   "cell_type": "code",
   "execution_count": 83,
   "metadata": {},
   "outputs": [
    {
     "data": {
      "text/plain": [
       "<Axes: ylabel='label_name'>"
      ]
     },
     "execution_count": 83,
     "metadata": {},
     "output_type": "execute_result"
    },
    {
     "data": {
      "image/png": "[encoded data removed]",
      "text/plain": [
       "<Figure size 640x480 with 1 Axes>"
      ]
     },
     "metadata": {},
     "output_type": "display_data"
    }
   ],
   "source": [
    "df[\"label_name\"].value_counts(ascending=True).plot.barh()"
   ]
  },
  {
   "cell_type": "code",
   "execution_count": 85,
   "metadata": {},
   "outputs": [
    {
     "data": {
      "text/plain": [
       "<Axes: xlabel='label_name'>"
      ]
     },
     "execution_count": 85,
     "metadata": {},
     "output_type": "execute_result"
    },
    {
     "data": {
      "image/png": "[encoded data removed]",
      "text/plain": [
       "<Figure size 640x480 with 1 Axes>"
      ]
     },
     "metadata": {},
     "output_type": "display_data"
    }
   ],
   "source": [
    "df[\"label_name\"].value_counts(ascending=True).plot.bar()"
   ]
  },
  {
   "cell_type": "code",
   "execution_count": null,
   "metadata": {},
   "outputs": [],
   "source": [
    "df[\"Words Per Tweet\"] = df[\"text\"].str.split().apply(len)\n",
    "#Same as ->  df[\"Words Per Tweet\"] = df[\"text\"].str.split().apply(lambda row: len(row))\n"
   ]
  },
  {
   "cell_type": "code",
   "execution_count": 91,
   "metadata": {},
   "outputs": [
    {
     "data": {
      "image/png": "[encoded data removed]",
      "text/plain": [
       "<Figure size 640x480 with 1 Axes>"
      ]
     },
     "metadata": {},
     "output_type": "display_data"
    }
   ],
   "source": [
    "df.boxplot(\"Words Per Tweet\", by=\"label_name\", grid=False, showfliers=False, color=\"black\")\n",
    "plt.suptitle(\"\")\n",
    "plt.xlabel(\"\")\n",
    "plt.show()"
   ]
  },
  {
   "cell_type": "code",
   "execution_count": 92,
   "metadata": {},
   "outputs": [],
   "source": [
    "emotions.reset_format()"
   ]
  }
 ],
 "metadata": {
  "kernelspec": {
   "display_name": "pytorch_env",
   "language": "python",
   "name": "python3"
  },
  "language_info": {
   "codemirror_mode": {
    "name": "ipython",
    "version": 3
   },
   "file_extension": ".py",
   "mimetype": "text/x-python",
   "name": "python",
   "nbconvert_exporter": "python",
   "pygments_lexer": "ipython3",
   "version": "3.10.16"
  }
 },
 "nbformat": 4,
 "nbformat_minor": 2
}
