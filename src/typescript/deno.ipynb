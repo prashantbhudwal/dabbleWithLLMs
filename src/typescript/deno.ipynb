{
 "cells": [
  {
   "cell_type": "code",
   "execution_count": 1,
   "metadata": {},
   "outputs": [
    {
     "name": "stdout",
     "output_type": "stream",
     "text": [
      "Hello World\n"
     ]
    }
   ],
   "source": [
    "const test = \"Hello World\"; \n",
    "console.log(test);"
   ]
  },
  {
   "cell_type": "code",
   "execution_count": 6,
   "metadata": {},
   "outputs": [
    {
     "data": {
      "text/plain": [
       "{\n",
       "  id: \u001b[32m\"chatcmpl-Axs1yAD4dXqcZgvgm2MkTPCr0RbvU\"\u001b[39m,\n",
       "  timestamp: \u001b[35m2025-02-06T09:00:10.000Z\u001b[39m,\n",
       "  modelId: \u001b[32m\"o3-mini-2025-01-31\"\u001b[39m,\n",
       "  headers: {\n",
       "    \u001b[32m\"access-control-expose-headers\"\u001b[39m: \u001b[32m\"X-Request-ID\"\u001b[39m,\n",
       "    \u001b[32m\"alt-svc\"\u001b[39m: \u001b[32m'h3=\":443\"; ma=86400'\u001b[39m,\n",
       "    \u001b[32m\"cf-cache-status\"\u001b[39m: \u001b[32m\"DYNAMIC\"\u001b[39m,\n",
       "    \u001b[32m\"cf-ray\"\u001b[39m: \u001b[32m\"90d9f2c3ace3935f-MAA\"\u001b[39m,\n",
       "    \u001b[32m\"content-type\"\u001b[39m: \u001b[32m\"application/json\"\u001b[39m,\n",
       "    date: \u001b[32m\"Thu, 06 Feb 2025 09:00:13 GMT\"\u001b[39m,\n",
       "    \u001b[32m\"openai-organization\"\u001b[39m: \u001b[32m\"user-2bawfynkkmnzrcmrnznt4l2l\"\u001b[39m,\n",
       "    \u001b[32m\"openai-processing-ms\"\u001b[39m: \u001b[32m\"2892\"\u001b[39m,\n",
       "    \u001b[32m\"openai-version\"\u001b[39m: \u001b[32m\"2020-10-01\"\u001b[39m,\n",
       "    server: \u001b[32m\"cloudflare\"\u001b[39m,\n",
       "    \u001b[32m\"set-cookie\"\u001b[39m: \u001b[32m\"_cfuvid=NZahr7NERlCkqZsXdiKLSVAb59_WRePnqelCRdTSm80-1738832413369-0.0.1.1-604800000; path=/; domain=.api.openai.com; HttpOnly; Secure; SameSite=None\"\u001b[39m,\n",
       "    \u001b[32m\"strict-transport-security\"\u001b[39m: \u001b[32m\"max-age=31536000; includeSubDomains; preload\"\u001b[39m,\n",
       "    \u001b[32m\"x-content-type-options\"\u001b[39m: \u001b[32m\"nosniff\"\u001b[39m,\n",
       "    \u001b[32m\"x-ratelimit-limit-requests\"\u001b[39m: \u001b[32m\"5000\"\u001b[39m,\n",
       "    \u001b[32m\"x-ratelimit-limit-tokens\"\u001b[39m: \u001b[32m\"4000000\"\u001b[39m,\n",
       "    \u001b[32m\"x-ratelimit-remaining-requests\"\u001b[39m: \u001b[32m\"4999\"\u001b[39m,\n",
       "    \u001b[32m\"x-ratelimit-remaining-tokens\"\u001b[39m: \u001b[32m\"3999981\"\u001b[39m,\n",
       "    \u001b[32m\"x-ratelimit-reset-requests\"\u001b[39m: \u001b[32m\"12ms\"\u001b[39m,\n",
       "    \u001b[32m\"x-ratelimit-reset-tokens\"\u001b[39m: \u001b[32m\"0s\"\u001b[39m,\n",
       "    \u001b[32m\"x-request-id\"\u001b[39m: \u001b[32m\"req_570765fef141a45c780a00e724fedef4\"\u001b[39m\n",
       "  },\n",
       "  messages: [\n",
       "    {\n",
       "      role: \u001b[32m\"assistant\"\u001b[39m,\n",
       "      content: [ { type: \u001b[32m\"text\"\u001b[39m, text: \u001b[32m\"Red!\"\u001b[39m } ],\n",
       "      id: \u001b[32m\"msg-0WeEYBLlkxTyqSLOSBAHZPjO\"\u001b[39m\n",
       "    }\n",
       "  ]\n",
       "}"
      ]
     },
     "execution_count": 6,
     "metadata": {},
     "output_type": "execute_result"
    }
   ],
   "source": [
    "import { openai } from '@ai-sdk/openai';\n",
    "import { generateText } from \"ai\";\n",
    "\n",
    "const { text, response } = await generateText({\n",
    "  model: openai(\"o3-mini\"),\n",
    "  prompt: \"Say Red!\",\n",
    "  \n",
    "});\n",
    "\n",
    "response"
   ]
  },
  {
   "cell_type": "code",
   "execution_count": null,
   "metadata": {},
   "outputs": [],
   "source": []
  }
 ],
 "metadata": {
  "kernelspec": {
   "display_name": "Deno",
   "language": "typescript",
   "name": "deno"
  },
  "language_info": {
   "codemirror_mode": "typescript",
   "file_extension": ".ts",
   "mimetype": "text/x.typescript",
   "name": "typescript",
   "nbconvert_exporter": "script",
   "pygments_lexer": "typescript",
   "version": "5.6.2"
  }
 },
 "nbformat": 4,
 "nbformat_minor": 2
}
